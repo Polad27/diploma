{
 "cells": [
  {
   "cell_type": "code",
   "execution_count": 1,
   "metadata": {},
   "outputs": [],
   "source": [
    "import pandas as pd"
   ]
  },
  {
   "cell_type": "code",
   "execution_count": 2,
   "metadata": {},
   "outputs": [],
   "source": [
    "df = pd.read_csv('tjornal_искусственный интеллект.csv')"
   ]
  },
  {
   "cell_type": "code",
   "execution_count": 3,
   "metadata": {},
   "outputs": [
    {
     "data": {
      "text/html": [
       "<div>\n",
       "<style scoped>\n",
       "    .dataframe tbody tr th:only-of-type {\n",
       "        vertical-align: middle;\n",
       "    }\n",
       "\n",
       "    .dataframe tbody tr th {\n",
       "        vertical-align: top;\n",
       "    }\n",
       "\n",
       "    .dataframe thead th {\n",
       "        text-align: right;\n",
       "    }\n",
       "</style>\n",
       "<table border=\"1\" class=\"dataframe\">\n",
       "  <thead>\n",
       "    <tr style=\"text-align: right;\">\n",
       "      <th></th>\n",
       "      <th>Unnamed: 0</th>\n",
       "      <th>article_url</th>\n",
       "      <th>article_time</th>\n",
       "      <th>article_head</th>\n",
       "      <th>article_author</th>\n",
       "      <th>article_content</th>\n",
       "    </tr>\n",
       "  </thead>\n",
       "  <tbody>\n",
       "    <tr>\n",
       "      <th>0</th>\n",
       "      <td>0</td>\n",
       "      <td>https://tjournal.ru/u/274224-anatoliy-tihvinsk...</td>\n",
       "      <td>11.11.2019 17:33:39 (Europe/Moscow)</td>\n",
       "      <td>ИСКУССТВЕННЫЙ ИНТЕЛЛЕКТ</td>\n",
       "      <td>Анатолий Тихвинский</td>\n",
       "      <td>['', 'Люди создали Искусственный Интеллект и о...</td>\n",
       "    </tr>\n",
       "    <tr>\n",
       "      <th>1</th>\n",
       "      <td>1</td>\n",
       "      <td>https://tjournal.ru/internet/131681-iskusstven...</td>\n",
       "      <td>18.12.2019 00:15:06 (Europe/Moscow)</td>\n",
       "      <td>Искусственный интеллект</td>\n",
       "      <td>Интернет и мемы</td>\n",
       "      <td>['', '', '', 'Не понял прекол, переведите на п...</td>\n",
       "    </tr>\n",
       "    <tr>\n",
       "      <th>2</th>\n",
       "      <td>2</td>\n",
       "      <td>https://tjournal.ru/tech/125621-iskusstvennyy-...</td>\n",
       "      <td>14.11.2019 04:41:58 (Europe/Moscow)</td>\n",
       "      <td>Искусственный интеллект обучили копировать чуж...</td>\n",
       "      <td>Технологии</td>\n",
       "      <td>['', '', 'В детстве звонили в милицию. Когда т...</td>\n",
       "    </tr>\n",
       "    <tr>\n",
       "      <th>3</th>\n",
       "      <td>3</td>\n",
       "      <td>https://tjournal.ru/news/116219-vkontakte-vper...</td>\n",
       "      <td>13.09.2019 12:38:13 (Europe/Moscow)</td>\n",
       "      <td>«ВКонтакте» впервые откроет научную лаборатори...</td>\n",
       "      <td>Новости</td>\n",
       "      <td>['', 'Кураторами лаборатории станут разработчи...</td>\n",
       "    </tr>\n",
       "    <tr>\n",
       "      <th>4</th>\n",
       "      <td>4</td>\n",
       "      <td>https://tjournal.ru/tech/131933-kazhdyy-iz-nih...</td>\n",
       "      <td>23.12.2019 11:35:34 (Europe/Moscow)</td>\n",
       "      <td>Каждый из них играл за человечество: история п...</td>\n",
       "      <td>Технологии</td>\n",
       "      <td>['', '22 года развития ИИ в хронологии матчей ...</td>\n",
       "    </tr>\n",
       "  </tbody>\n",
       "</table>\n",
       "</div>"
      ],
      "text/plain": [
       "   Unnamed: 0                                        article_url  \\\n",
       "0           0  https://tjournal.ru/u/274224-anatoliy-tihvinsk...   \n",
       "1           1  https://tjournal.ru/internet/131681-iskusstven...   \n",
       "2           2  https://tjournal.ru/tech/125621-iskusstvennyy-...   \n",
       "3           3  https://tjournal.ru/news/116219-vkontakte-vper...   \n",
       "4           4  https://tjournal.ru/tech/131933-kazhdyy-iz-nih...   \n",
       "\n",
       "                          article_time  \\\n",
       "0  11.11.2019 17:33:39 (Europe/Moscow)   \n",
       "1  18.12.2019 00:15:06 (Europe/Moscow)   \n",
       "2  14.11.2019 04:41:58 (Europe/Moscow)   \n",
       "3  13.09.2019 12:38:13 (Europe/Moscow)   \n",
       "4  23.12.2019 11:35:34 (Europe/Moscow)   \n",
       "\n",
       "                                        article_head       article_author  \\\n",
       "0                            ИСКУССТВЕННЫЙ ИНТЕЛЛЕКТ  Анатолий Тихвинский   \n",
       "1                            Искусственный интеллект      Интернет и мемы   \n",
       "2  Искусственный интеллект обучили копировать чуж...           Технологии   \n",
       "3  «ВКонтакте» впервые откроет научную лаборатори...              Новости   \n",
       "4  Каждый из них играл за человечество: история п...           Технологии   \n",
       "\n",
       "                                     article_content  \n",
       "0  ['', 'Люди создали Искусственный Интеллект и о...  \n",
       "1  ['', '', '', 'Не понял прекол, переведите на п...  \n",
       "2  ['', '', 'В детстве звонили в милицию. Когда т...  \n",
       "3  ['', 'Кураторами лаборатории станут разработчи...  \n",
       "4  ['', '22 года развития ИИ в хронологии матчей ...  "
      ]
     },
     "execution_count": 3,
     "metadata": {},
     "output_type": "execute_result"
    }
   ],
   "source": [
    "df.head()"
   ]
  }
 ],
 "metadata": {
  "kernelspec": {
   "display_name": "Python 3",
   "language": "python",
   "name": "python3"
  },
  "language_info": {
   "codemirror_mode": {
    "name": "ipython",
    "version": 3
   },
   "file_extension": ".py",
   "mimetype": "text/x-python",
   "name": "python",
   "nbconvert_exporter": "python",
   "pygments_lexer": "ipython3",
   "version": "3.8.1"
  }
 },
 "nbformat": 4,
 "nbformat_minor": 1
}
