{
 "cells": [
  {
   "cell_type": "code",
   "execution_count": 59,
   "metadata": {},
   "outputs": [
    {
     "name": "stderr",
     "output_type": "stream",
     "text": [
      "[nltk_data] Downloading package stopwords to\n",
      "[nltk_data]     C:\\Users\\Polad_Babashev\\AppData\\Roaming\\nltk_data...\n",
      "[nltk_data]   Package stopwords is already up-to-date!\n",
      "[nltk_data] Downloading package punkt to\n",
      "[nltk_data]     C:\\Users\\Polad_Babashev\\AppData\\Roaming\\nltk_data...\n",
      "[nltk_data]   Package punkt is already up-to-date!\n",
      "[nltk_data] Downloading package wordnet to\n",
      "[nltk_data]     C:\\Users\\Polad_Babashev\\AppData\\Roaming\\nltk_data...\n",
      "[nltk_data]   Package wordnet is already up-to-date!\n"
     ]
    }
   ],
   "source": [
    "import pandas as pd\n",
    "import numpy as np\n",
    "import matplotlib.pyplot as plt\n",
    "import nltk\n",
    "import re\n",
    "from tqdm.notebook import tqdm\n",
    "nltk.download('stopwords')\n",
    "nltk.download('punkt')\n",
    "nltk.download('wordnet')\n",
    "from nltk.corpus import stopwords\n",
    "from nltk.tokenize import word_tokenize\n",
    "from nltk.stem.snowball import SnowballStemmer\n",
    "\n",
    "from sklearn.feature_extraction.text import TfidfVectorizer\n",
    "from sklearn.decomposition import LatentDirichletAllocation\n",
    "from pymystem3 import Mystem\n",
    "from nltk.stem.wordnet import WordNetLemmatizer\n",
    "plt.rcParams['figure.figsize'] = 15, 5"
   ]
  },
  {
   "cell_type": "markdown",
   "metadata": {},
   "source": [
    "# EDA"
   ]
  },
  {
   "cell_type": "markdown",
   "metadata": {},
   "source": [
    "## Tjonral"
   ]
  },
  {
   "cell_type": "code",
   "execution_count": 106,
   "metadata": {},
   "outputs": [],
   "source": [
    "df_tjornal = pd.read_csv('tjornal.csv')"
   ]
  },
  {
   "cell_type": "code",
   "execution_count": 66,
   "metadata": {},
   "outputs": [
    {
     "data": {
      "text/html": [
       "<div>\n",
       "<style scoped>\n",
       "    .dataframe tbody tr th:only-of-type {\n",
       "        vertical-align: middle;\n",
       "    }\n",
       "\n",
       "    .dataframe tbody tr th {\n",
       "        vertical-align: top;\n",
       "    }\n",
       "\n",
       "    .dataframe thead th {\n",
       "        text-align: right;\n",
       "    }\n",
       "</style>\n",
       "<table border=\"1\" class=\"dataframe\">\n",
       "  <thead>\n",
       "    <tr style=\"text-align: right;\">\n",
       "      <th></th>\n",
       "      <th>article_url</th>\n",
       "      <th>article_time</th>\n",
       "      <th>article_head</th>\n",
       "      <th>article_content</th>\n",
       "    </tr>\n",
       "  </thead>\n",
       "  <tbody>\n",
       "    <tr>\n",
       "      <th>0</th>\n",
       "      <td>https://tjournal.ru/u/274224-anatoliy-tihvinsk...</td>\n",
       "      <td>11.11.2019 17:33</td>\n",
       "      <td>ИСКУССТВЕННЫЙ ИНТЕЛЛЕКТ</td>\n",
       "      <td>Люди создали Искусственный Интеллект и открыл...</td>\n",
       "    </tr>\n",
       "    <tr>\n",
       "      <th>1</th>\n",
       "      <td>https://tjournal.ru/internet/131681-iskusstven...</td>\n",
       "      <td>18.12.2019 00:15</td>\n",
       "      <td>Искусственный интеллект</td>\n",
       "      <td></td>\n",
       "    </tr>\n",
       "    <tr>\n",
       "      <th>2</th>\n",
       "      <td>https://tjournal.ru/tech/125621-iskusstvennyy-...</td>\n",
       "      <td>14.11.2019 04:41</td>\n",
       "      <td>Искусственный интеллект обучили копировать чуж...</td>\n",
       "      <td></td>\n",
       "    </tr>\n",
       "    <tr>\n",
       "      <th>3</th>\n",
       "      <td>https://tjournal.ru/news/116219-vkontakte-vper...</td>\n",
       "      <td>13.09.2019 12:38</td>\n",
       "      <td>«ВКонтакте» впервые откроет научную лаборатори...</td>\n",
       "      <td>Кураторами лаборатории станут разработчики ко...</td>\n",
       "    </tr>\n",
       "    <tr>\n",
       "      <th>4</th>\n",
       "      <td>https://tjournal.ru/tech/131933-kazhdyy-iz-nih...</td>\n",
       "      <td>23.12.2019 11:35</td>\n",
       "      <td>Каждый из них играл за человечество: история п...</td>\n",
       "      <td>22 года развития ИИ в хронологии матчей – от ...</td>\n",
       "    </tr>\n",
       "  </tbody>\n",
       "</table>\n",
       "</div>"
      ],
      "text/plain": [
       "                                         article_url      article_time  \\\n",
       "0  https://tjournal.ru/u/274224-anatoliy-tihvinsk...  11.11.2019 17:33   \n",
       "1  https://tjournal.ru/internet/131681-iskusstven...  18.12.2019 00:15   \n",
       "2  https://tjournal.ru/tech/125621-iskusstvennyy-...  14.11.2019 04:41   \n",
       "3  https://tjournal.ru/news/116219-vkontakte-vper...  13.09.2019 12:38   \n",
       "4  https://tjournal.ru/tech/131933-kazhdyy-iz-nih...  23.12.2019 11:35   \n",
       "\n",
       "                                        article_head  \\\n",
       "0                            ИСКУССТВЕННЫЙ ИНТЕЛЛЕКТ   \n",
       "1                            Искусственный интеллект   \n",
       "2  Искусственный интеллект обучили копировать чуж...   \n",
       "3  «ВКонтакте» впервые откроет научную лаборатори...   \n",
       "4  Каждый из них играл за человечество: история п...   \n",
       "\n",
       "                                     article_content  \n",
       "0   Люди создали Искусственный Интеллект и открыл...  \n",
       "1                                                     \n",
       "2                                                     \n",
       "3   Кураторами лаборатории станут разработчики ко...  \n",
       "4   22 года развития ИИ в хронологии матчей – от ...  "
      ]
     },
     "execution_count": 66,
     "metadata": {},
     "output_type": "execute_result"
    }
   ],
   "source": [
    "df_tjornal.head()"
   ]
  },
  {
   "cell_type": "code",
   "execution_count": 107,
   "metadata": {},
   "outputs": [
    {
     "data": {
      "text/plain": [
       "<matplotlib.axes._subplots.AxesSubplot at 0x237d1960850>"
      ]
     },
     "execution_count": 107,
     "metadata": {},
     "output_type": "execute_result"
    },
    {
     "data": {
      "image/png": "[encoded data removed]",
      "text/plain": [
       "<Figure size 432x288 with 1 Axes>"
      ]
     },
     "metadata": {
      "needs_background": "light"
     },
     "output_type": "display_data"
    }
   ],
   "source": [
    "df_tjornal.article_content.dropna().apply(lambda x: len(x)).plot(kind='hist', bins=30)"
   ]
  },
  {
   "cell_type": "markdown",
   "metadata": {},
   "source": [
    "## Meduza"
   ]
  },
  {
   "cell_type": "code",
   "execution_count": 84,
   "metadata": {},
   "outputs": [],
   "source": [
    "df_meduza = pd.read_csv('meduza.csv', parse_dates=['article_time'])"
   ]
  },
  {
   "cell_type": "code",
   "execution_count": 57,
   "metadata": {},
   "outputs": [
    {
     "data": {
      "text/html": [
       "<div>\n",
       "<style scoped>\n",
       "    .dataframe tbody tr th:only-of-type {\n",
       "        vertical-align: middle;\n",
       "    }\n",
       "\n",
       "    .dataframe tbody tr th {\n",
       "        vertical-align: top;\n",
       "    }\n",
       "\n",
       "    .dataframe thead th {\n",
       "        text-align: right;\n",
       "    }\n",
       "</style>\n",
       "<table border=\"1\" class=\"dataframe\">\n",
       "  <thead>\n",
       "    <tr style=\"text-align: right;\">\n",
       "      <th></th>\n",
       "      <th>article_url</th>\n",
       "      <th>article_time</th>\n",
       "      <th>article_head</th>\n",
       "      <th>article_content</th>\n",
       "    </tr>\n",
       "  </thead>\n",
       "  <tbody>\n",
       "    <tr>\n",
       "      <th>0</th>\n",
       "      <td>https://meduza.io/feature/2020/01/16/meduzoid-...</td>\n",
       "      <td>2020-01-16 16:55:00</td>\n",
       "      <td>«Медузоид» из сердца крысы и киборги из лягуша...</td>\n",
       "      <td>Исследователи из Университета Тафстса Новая ра...</td>\n",
       "    </tr>\n",
       "    <tr>\n",
       "      <th>1</th>\n",
       "      <td>https://meduza.io/slides/nevidimaya-klaviatura...</td>\n",
       "      <td>2020-01-11 16:03:00</td>\n",
       "      <td>Невидимая клавиатура, крадущийся автомобиль-кр...</td>\n",
       "      <td>Каждый год на проходящей в Лас-Вегасе технолог...</td>\n",
       "    </tr>\n",
       "    <tr>\n",
       "      <th>2</th>\n",
       "      <td>https://meduza.io/slides/20-luchshih-russkih-i...</td>\n",
       "      <td>2020-01-03 06:42:00</td>\n",
       "      <td>20 лучших русских и иностранных книг за десяти...</td>\n",
       "      <td>«Медуза» продолжает подводить итоги десятилети...</td>\n",
       "    </tr>\n",
       "    <tr>\n",
       "      <th>3</th>\n",
       "      <td>https://meduza.io/slides/razve-mozhet-robot-na...</td>\n",
       "      <td>2019-12-30 12:16:00</td>\n",
       "      <td>Откуда искусственный интеллект берет вдохновен...</td>\n",
       "      <td>В 2018 году на аукционе Christieʼs Иногда гово...</td>\n",
       "    </tr>\n",
       "    <tr>\n",
       "      <th>4</th>\n",
       "      <td>https://meduza.io/episodes/2019/12/27/novye-ch...</td>\n",
       "      <td>2019-12-27 15:00:00</td>\n",
       "      <td>Новые черные дыры, аэромобили и другие приятны...</td>\n",
       "      <td>Несколько месяцев подряд в подкасте «Так и буд...</td>\n",
       "    </tr>\n",
       "  </tbody>\n",
       "</table>\n",
       "</div>"
      ],
      "text/plain": [
       "                                         article_url        article_time  \\\n",
       "0  https://meduza.io/feature/2020/01/16/meduzoid-... 2020-01-16 16:55:00   \n",
       "1  https://meduza.io/slides/nevidimaya-klaviatura... 2020-01-11 16:03:00   \n",
       "2  https://meduza.io/slides/20-luchshih-russkih-i... 2020-01-03 06:42:00   \n",
       "3  https://meduza.io/slides/razve-mozhet-robot-na... 2019-12-30 12:16:00   \n",
       "4  https://meduza.io/episodes/2019/12/27/novye-ch... 2019-12-27 15:00:00   \n",
       "\n",
       "                                        article_head  \\\n",
       "0  «Медузоид» из сердца крысы и киборги из лягуша...   \n",
       "1  Невидимая клавиатура, крадущийся автомобиль-кр...   \n",
       "2  20 лучших русских и иностранных книг за десяти...   \n",
       "3  Откуда искусственный интеллект берет вдохновен...   \n",
       "4  Новые черные дыры, аэромобили и другие приятны...   \n",
       "\n",
       "                                     article_content  \n",
       "0  Исследователи из Университета Тафстса Новая ра...  \n",
       "1  Каждый год на проходящей в Лас-Вегасе технолог...  \n",
       "2  «Медуза» продолжает подводить итоги десятилети...  \n",
       "3  В 2018 году на аукционе Christieʼs Иногда гово...  \n",
       "4  Несколько месяцев подряд в подкасте «Так и буд...  "
      ]
     },
     "execution_count": 57,
     "metadata": {},
     "output_type": "execute_result"
    }
   ],
   "source": [
    "df_meduza.head()"
   ]
  },
  {
   "cell_type": "code",
   "execution_count": 87,
   "metadata": {},
   "outputs": [
    {
     "name": "stdout",
     "output_type": "stream",
     "text": [
      "<class 'pandas.core.frame.DataFrame'>\n",
      "RangeIndex: 507 entries, 0 to 506\n",
      "Data columns (total 4 columns):\n",
      "article_url        507 non-null object\n",
      "article_time       507 non-null datetime64[ns]\n",
      "article_head       507 non-null object\n",
      "article_content    506 non-null object\n",
      "dtypes: datetime64[ns](1), object(3)\n",
      "memory usage: 16.0+ KB\n"
     ]
    }
   ],
   "source": [
    "df_meduza.info()"
   ]
  },
  {
   "cell_type": "code",
   "execution_count": 97,
   "metadata": {},
   "outputs": [
    {
     "data": {
      "text/plain": [
       "35"
      ]
     },
     "execution_count": 97,
     "metadata": {},
     "output_type": "execute_result"
    }
   ],
   "source": [
    "[type(df_meduza.article_content.values[i]) for i in range(df_meduza.shape[0])].index(float)"
   ]
  },
  {
   "cell_type": "code",
   "execution_count": 98,
   "metadata": {},
   "outputs": [
    {
     "data": {
      "text/plain": [
       "nan"
      ]
     },
     "execution_count": 98,
     "metadata": {},
     "output_type": "execute_result"
    }
   ],
   "source": [
    "df_meduza.article_content.values[35]"
   ]
  },
  {
   "cell_type": "code",
   "execution_count": 101,
   "metadata": {},
   "outputs": [
    {
     "data": {
      "text/plain": [
       "<matplotlib.axes._subplots.AxesSubplot at 0x237d18abe80>"
      ]
     },
     "execution_count": 101,
     "metadata": {},
     "output_type": "execute_result"
    },
    {
     "data": {
      "image/png": "[encoded data removed]",
      "text/plain": [
       "<Figure size 432x288 with 1 Axes>"
      ]
     },
     "metadata": {
      "needs_background": "light"
     },
     "output_type": "display_data"
    }
   ],
   "source": [
    "df_meduza.article_content.dropna().apply(lambda x: len(x)).plot(kind='hist', bins=30)"
   ]
  },
  {
   "cell_type": "code",
   "execution_count": 64,
   "metadata": {},
   "outputs": [
    {
     "data": {
      "text/plain": [
       "count      420.000000\n",
       "mean      2417.942857\n",
       "std       3315.352135\n",
       "min          1.000000\n",
       "25%        680.500000\n",
       "50%       1320.000000\n",
       "75%       2386.250000\n",
       "max      25352.000000\n",
       "Name: article_content, dtype: float64"
      ]
     },
     "execution_count": 64,
     "metadata": {},
     "output_type": "execute_result"
    }
   ],
   "source": [
    "df.article_content.apply(lambda x: len(x)).describe()"
   ]
  },
  {
   "cell_type": "code",
   "execution_count": 17,
   "metadata": {},
   "outputs": [
    {
     "data": {
      "text/html": [
       "<div>\n",
       "<style scoped>\n",
       "    .dataframe tbody tr th:only-of-type {\n",
       "        vertical-align: middle;\n",
       "    }\n",
       "\n",
       "    .dataframe tbody tr th {\n",
       "        vertical-align: top;\n",
       "    }\n",
       "\n",
       "    .dataframe thead th {\n",
       "        text-align: right;\n",
       "    }\n",
       "</style>\n",
       "<table border=\"1\" class=\"dataframe\">\n",
       "  <thead>\n",
       "    <tr style=\"text-align: right;\">\n",
       "      <th></th>\n",
       "      <th>0</th>\n",
       "      <th>1</th>\n",
       "      <th>2</th>\n",
       "      <th>3</th>\n",
       "      <th>4</th>\n",
       "    </tr>\n",
       "  </thead>\n",
       "  <tbody>\n",
       "    <tr>\n",
       "      <th>article_url</th>\n",
       "      <td>https://meduza.io/feature/2020/01/16/meduzoid-...</td>\n",
       "      <td>https://meduza.io/slides/nevidimaya-klaviatura...</td>\n",
       "      <td>https://meduza.io/slides/20-luchshih-russkih-i...</td>\n",
       "      <td>https://meduza.io/slides/razve-mozhet-robot-na...</td>\n",
       "      <td>https://meduza.io/episodes/2019/12/27/novye-ch...</td>\n",
       "    </tr>\n",
       "    <tr>\n",
       "      <th>article_time</th>\n",
       "      <td>16:55, 16 января</td>\n",
       "      <td>16:03, 11 января</td>\n",
       "      <td>06:42, 3 января</td>\n",
       "      <td>12:16, 30 декабр</td>\n",
       "      <td>15:00, 27 декабр</td>\n",
       "    </tr>\n",
       "    <tr>\n",
       "      <th>article_head</th>\n",
       "      <td>«Медузоид» из сердца крысы и киборги из лягуша...</td>\n",
       "      <td>Невидимая клавиатура, крадущийся автомобиль-кр...</td>\n",
       "      <td>20 лучших русских и иностранных книг за десяти...</td>\n",
       "      <td>Откуда искусственный интеллект берет вдохновен...</td>\n",
       "      <td>Новые черные дыры, аэромобили и другие приятны...</td>\n",
       "    </tr>\n",
       "    <tr>\n",
       "      <th>article_content</th>\n",
       "      <td>Исследователи из Университета Тафстса Новая ра...</td>\n",
       "      <td>Каждый год на проходящей в Лас-Вегасе технолог...</td>\n",
       "      <td>«Медуза» продолжает подводить итоги десятилети...</td>\n",
       "      <td>В 2018 году на аукционе Christieʼs Иногда гово...</td>\n",
       "      <td>Несколько месяцев подряд в подкасте «Так и буд...</td>\n",
       "    </tr>\n",
       "  </tbody>\n",
       "</table>\n",
       "</div>"
      ],
      "text/plain": [
       "                                                                 0  \\\n",
       "article_url      https://meduza.io/feature/2020/01/16/meduzoid-...   \n",
       "article_time                                      16:55, 16 января   \n",
       "article_head     «Медузоид» из сердца крысы и киборги из лягуша...   \n",
       "article_content  Исследователи из Университета Тафстса Новая ра...   \n",
       "\n",
       "                                                                 1  \\\n",
       "article_url      https://meduza.io/slides/nevidimaya-klaviatura...   \n",
       "article_time                                      16:03, 11 января   \n",
       "article_head     Невидимая клавиатура, крадущийся автомобиль-кр...   \n",
       "article_content  Каждый год на проходящей в Лас-Вегасе технолог...   \n",
       "\n",
       "                                                                 2  \\\n",
       "article_url      https://meduza.io/slides/20-luchshih-russkih-i...   \n",
       "article_time                                      06:42, 3 января    \n",
       "article_head     20 лучших русских и иностранных книг за десяти...   \n",
       "article_content  «Медуза» продолжает подводить итоги десятилети...   \n",
       "\n",
       "                                                                 3  \\\n",
       "article_url      https://meduza.io/slides/razve-mozhet-robot-na...   \n",
       "article_time                                      12:16, 30 декабр   \n",
       "article_head     Откуда искусственный интеллект берет вдохновен...   \n",
       "article_content  В 2018 году на аукционе Christieʼs Иногда гово...   \n",
       "\n",
       "                                                                 4  \n",
       "article_url      https://meduza.io/episodes/2019/12/27/novye-ch...  \n",
       "article_time                                      15:00, 27 декабр  \n",
       "article_head     Новые черные дыры, аэромобили и другие приятны...  \n",
       "article_content  Несколько месяцев подряд в подкасте «Так и буд...  "
      ]
     },
     "execution_count": 17,
     "metadata": {},
     "output_type": "execute_result"
    }
   ],
   "source": [
    "df_meduza.head().T"
   ]
  },
  {
   "cell_type": "markdown",
   "metadata": {},
   "source": [
    "## N+1\n"
   ]
  },
  {
   "cell_type": "code",
   "execution_count": 68,
   "metadata": {},
   "outputs": [],
   "source": [
    "df_nplus = pd.read_csv('nplus.csv', parse_dates=['article_time'])"
   ]
  },
  {
   "cell_type": "code",
   "execution_count": 73,
   "metadata": {},
   "outputs": [
    {
     "data": {
      "text/html": [
       "<div>\n",
       "<style scoped>\n",
       "    .dataframe tbody tr th:only-of-type {\n",
       "        vertical-align: middle;\n",
       "    }\n",
       "\n",
       "    .dataframe tbody tr th {\n",
       "        vertical-align: top;\n",
       "    }\n",
       "\n",
       "    .dataframe thead th {\n",
       "        text-align: right;\n",
       "    }\n",
       "</style>\n",
       "<table border=\"1\" class=\"dataframe\">\n",
       "  <thead>\n",
       "    <tr style=\"text-align: right;\">\n",
       "      <th></th>\n",
       "      <th>article_url</th>\n",
       "      <th>article_time</th>\n",
       "      <th>article_head</th>\n",
       "      <th>article_content</th>\n",
       "    </tr>\n",
       "  </thead>\n",
       "  <tbody>\n",
       "    <tr>\n",
       "      <th>0</th>\n",
       "      <td>https://nplus1.ru/news/2016/06/20/ai-ant-soccer</td>\n",
       "      <td>2016-06-20 14:28:27</td>\n",
       "      <td>Искусственный интеллект Google сыграл в «мурав...</td>\n",
       "      <td>DeepMind / YouTube Искусственный интеллект ...</td>\n",
       "    </tr>\n",
       "    <tr>\n",
       "      <th>1</th>\n",
       "      <td>https://nplus1.ru/news/2018/04/24/nuclear</td>\n",
       "      <td>2018-04-24 11:40:12</td>\n",
       "      <td>Искусственный интеллект назвали угрозой ядерно...</td>\n",
       "      <td>Ядерные испытания в Неваде в 1957 году U.S....</td>\n",
       "    </tr>\n",
       "    <tr>\n",
       "      <th>2</th>\n",
       "      <td>https://nplus1.ru/news/2016/11/14/ai-learns-ab...</td>\n",
       "      <td>2016-11-14 13:07:37</td>\n",
       "      <td>Искусственный интеллект научился взвешивать об...</td>\n",
       "      <td>The Marmot / Flickr Искусственный интеллект...</td>\n",
       "    </tr>\n",
       "    <tr>\n",
       "      <th>3</th>\n",
       "      <td>https://nplus1.ru/news/2016/10/25/AI-predict</td>\n",
       "      <td>2016-10-25 12:21:12</td>\n",
       "      <td>Искусственный интеллект научился предсказывать...</td>\n",
       "      <td>Adrian Grycuk / Wikimedia Commons Искусстве...</td>\n",
       "    </tr>\n",
       "    <tr>\n",
       "      <th>4</th>\n",
       "      <td>https://nplus1.ru/news/2016/06/10/yeah-skynet</td>\n",
       "      <td>2016-06-10 10:17:11</td>\n",
       "      <td>Искусственный интеллект игры Elite Dangerous р...</td>\n",
       "      <td>Deebz__ / YouTune После обновления игры Eli...</td>\n",
       "    </tr>\n",
       "    <tr>\n",
       "      <th>...</th>\n",
       "      <td>...</td>\n",
       "      <td>...</td>\n",
       "      <td>...</td>\n",
       "      <td>...</td>\n",
       "    </tr>\n",
       "    <tr>\n",
       "      <th>195</th>\n",
       "      <td>https://nplus1.ru/news/2017/10/30/suicide-mach...</td>\n",
       "      <td>2017-10-30 16:00:33</td>\n",
       "      <td>Машинное обучение вычислило потенциальных само...</td>\n",
       "      <td>Джон Эверетт Милле «Офелия»,1852 год public...</td>\n",
       "    </tr>\n",
       "    <tr>\n",
       "      <th>196</th>\n",
       "      <td>https://nplus1.ru/news/2016/05/05/neoneo</td>\n",
       "      <td>2016-05-05 11:53:23</td>\n",
       "      <td>Компьютер обошел человека в неорганическом син...</td>\n",
       "      <td>Блок-схема, суммирующая предсказания систем...</td>\n",
       "    </tr>\n",
       "    <tr>\n",
       "      <th>197</th>\n",
       "      <td>https://nplus1.ru/news/2017/12/14/gfycat</td>\n",
       "      <td>2017-12-14 09:53:23</td>\n",
       "      <td>Машинное обучение улучшит качество гифок</td>\n",
       "      <td>Gfycat Сервис для хранения и создания аними...</td>\n",
       "    </tr>\n",
       "    <tr>\n",
       "      <th>198</th>\n",
       "      <td>https://nplus1.ru/news/2017/01/13/raisr</td>\n",
       "      <td>2017-01-13 08:55:59</td>\n",
       "      <td>Машинное обучение улучшило картинки в Google+</td>\n",
       "      <td>Фотография заката в формате JPEG с уменьшен...</td>\n",
       "    </tr>\n",
       "    <tr>\n",
       "      <th>199</th>\n",
       "      <td>https://nplus1.ru/news/2018/08/13/there-s-waldo</td>\n",
       "      <td>2018-08-13 10:38:27</td>\n",
       "      <td>Машинное обучение помогло резиновой руке найти...</td>\n",
       "      <td>redpepper / YouTube Разработчики креативног...</td>\n",
       "    </tr>\n",
       "  </tbody>\n",
       "</table>\n",
       "<p>200 rows × 4 columns</p>\n",
       "</div>"
      ],
      "text/plain": [
       "                                           article_url        article_time  \\\n",
       "0      https://nplus1.ru/news/2016/06/20/ai-ant-soccer 2016-06-20 14:28:27   \n",
       "1            https://nplus1.ru/news/2018/04/24/nuclear 2018-04-24 11:40:12   \n",
       "2    https://nplus1.ru/news/2016/11/14/ai-learns-ab... 2016-11-14 13:07:37   \n",
       "3         https://nplus1.ru/news/2016/10/25/AI-predict 2016-10-25 12:21:12   \n",
       "4        https://nplus1.ru/news/2016/06/10/yeah-skynet 2016-06-10 10:17:11   \n",
       "..                                                 ...                 ...   \n",
       "195  https://nplus1.ru/news/2017/10/30/suicide-mach... 2017-10-30 16:00:33   \n",
       "196           https://nplus1.ru/news/2016/05/05/neoneo 2016-05-05 11:53:23   \n",
       "197           https://nplus1.ru/news/2017/12/14/gfycat 2017-12-14 09:53:23   \n",
       "198            https://nplus1.ru/news/2017/01/13/raisr 2017-01-13 08:55:59   \n",
       "199    https://nplus1.ru/news/2018/08/13/there-s-waldo 2018-08-13 10:38:27   \n",
       "\n",
       "                                          article_head  \\\n",
       "0    Искусственный интеллект Google сыграл в «мурав...   \n",
       "1    Искусственный интеллект назвали угрозой ядерно...   \n",
       "2    Искусственный интеллект научился взвешивать об...   \n",
       "3    Искусственный интеллект научился предсказывать...   \n",
       "4    Искусственный интеллект игры Elite Dangerous р...   \n",
       "..                                                 ...   \n",
       "195  Машинное обучение вычислило потенциальных само...   \n",
       "196  Компьютер обошел человека в неорганическом син...   \n",
       "197           Машинное обучение улучшит качество гифок   \n",
       "198      Машинное обучение улучшило картинки в Google+   \n",
       "199  Машинное обучение помогло резиновой руке найти...   \n",
       "\n",
       "                                       article_content  \n",
       "0       DeepMind / YouTube Искусственный интеллект ...  \n",
       "1       Ядерные испытания в Неваде в 1957 году U.S....  \n",
       "2       The Marmot / Flickr Искусственный интеллект...  \n",
       "3       Adrian Grycuk / Wikimedia Commons Искусстве...  \n",
       "4       Deebz__ / YouTune После обновления игры Eli...  \n",
       "..                                                 ...  \n",
       "195     Джон Эверетт Милле «Офелия»,1852 год public...  \n",
       "196     Блок-схема, суммирующая предсказания систем...  \n",
       "197     Gfycat Сервис для хранения и создания аними...  \n",
       "198     Фотография заката в формате JPEG с уменьшен...  \n",
       "199     redpepper / YouTube Разработчики креативног...  \n",
       "\n",
       "[200 rows x 4 columns]"
      ]
     },
     "execution_count": 73,
     "metadata": {},
     "output_type": "execute_result"
    }
   ],
   "source": [
    "df_nplus.head(200)"
   ]
  },
  {
   "cell_type": "code",
   "execution_count": 72,
   "metadata": {},
   "outputs": [
    {
     "data": {
      "text/plain": [
       "'Что интеллект? Игра!'"
      ]
     },
     "execution_count": 72,
     "metadata": {},
     "output_type": "execute_result"
    }
   ],
   "source": [
    "df_nplus.tail().article_head.values[1]"
   ]
  },
  {
   "cell_type": "code",
   "execution_count": 83,
   "metadata": {},
   "outputs": [
    {
     "data": {
      "text/plain": [
       "<matplotlib.axes._subplots.AxesSubplot at 0x237d174a9d0>"
      ]
     },
     "execution_count": 83,
     "metadata": {},
     "output_type": "execute_result"
    },
    {
     "data": {
      "image/png": "[encoded data removed]",
      "text/plain": [
       "<Figure size 432x288 with 1 Axes>"
      ]
     },
     "metadata": {
      "needs_background": "light"
     },
     "output_type": "display_data"
    }
   ],
   "source": [
    "df_nplus.article_content.apply(lambda x: len(x)).plot(kind='hist', bins=30)"
   ]
  },
  {
   "cell_type": "markdown",
   "metadata": {},
   "source": [
    "## ALL"
   ]
  },
  {
   "cell_type": "code",
   "execution_count": 69,
   "metadata": {},
   "outputs": [],
   "source": [
    "files = ['meduza.csv', 'tjornal.csv', 'nplus.csv']\n",
    "df = pd.concat([pd.read_csv(i, parse_dates=['article_time']) for i in files]).dropna().drop_duplicates(subset='article_url')"
   ]
  },
  {
   "cell_type": "code",
   "execution_count": 70,
   "metadata": {},
   "outputs": [
    {
     "data": {
      "text/plain": [
       "(1042, 4)"
      ]
     },
     "execution_count": 70,
     "metadata": {},
     "output_type": "execute_result"
    }
   ],
   "source": [
    "df.shape"
   ]
  },
  {
   "cell_type": "code",
   "execution_count": 15,
   "metadata": {},
   "outputs": [
    {
     "data": {
      "text/html": [
       "<div>\n",
       "<style scoped>\n",
       "    .dataframe tbody tr th:only-of-type {\n",
       "        vertical-align: middle;\n",
       "    }\n",
       "\n",
       "    .dataframe tbody tr th {\n",
       "        vertical-align: top;\n",
       "    }\n",
       "\n",
       "    .dataframe thead th {\n",
       "        text-align: right;\n",
       "    }\n",
       "</style>\n",
       "<table border=\"1\" class=\"dataframe\">\n",
       "  <thead>\n",
       "    <tr style=\"text-align: right;\">\n",
       "      <th></th>\n",
       "      <th>article_url</th>\n",
       "      <th>article_time</th>\n",
       "      <th>article_head</th>\n",
       "      <th>article_content</th>\n",
       "    </tr>\n",
       "  </thead>\n",
       "  <tbody>\n",
       "    <tr>\n",
       "      <th>0</th>\n",
       "      <td>https://meduza.io/feature/2020/01/16/meduzoid-...</td>\n",
       "      <td>2020-01-16 16:55:00</td>\n",
       "      <td>«Медузоид» из сердца крысы и киборги из лягуша...</td>\n",
       "      <td>Исследователи из Университета Тафстса Новая ра...</td>\n",
       "    </tr>\n",
       "    <tr>\n",
       "      <th>1</th>\n",
       "      <td>https://meduza.io/slides/nevidimaya-klaviatura...</td>\n",
       "      <td>2020-01-11 16:03:00</td>\n",
       "      <td>Невидимая клавиатура, крадущийся автомобиль-кр...</td>\n",
       "      <td>Каждый год на проходящей в Лас-Вегасе технолог...</td>\n",
       "    </tr>\n",
       "    <tr>\n",
       "      <th>2</th>\n",
       "      <td>https://meduza.io/slides/20-luchshih-russkih-i...</td>\n",
       "      <td>2020-01-03 06:42:00</td>\n",
       "      <td>20 лучших русских и иностранных книг за десяти...</td>\n",
       "      <td>«Медуза» продолжает подводить итоги десятилети...</td>\n",
       "    </tr>\n",
       "    <tr>\n",
       "      <th>3</th>\n",
       "      <td>https://meduza.io/slides/razve-mozhet-robot-na...</td>\n",
       "      <td>2019-12-30 12:16:00</td>\n",
       "      <td>Откуда искусственный интеллект берет вдохновен...</td>\n",
       "      <td>В 2018 году на аукционе Christieʼs Иногда гово...</td>\n",
       "    </tr>\n",
       "    <tr>\n",
       "      <th>4</th>\n",
       "      <td>https://meduza.io/episodes/2019/12/27/novye-ch...</td>\n",
       "      <td>2019-12-27 15:00:00</td>\n",
       "      <td>Новые черные дыры, аэромобили и другие приятны...</td>\n",
       "      <td>Несколько месяцев подряд в подкасте «Так и буд...</td>\n",
       "    </tr>\n",
       "  </tbody>\n",
       "</table>\n",
       "</div>"
      ],
      "text/plain": [
       "                                         article_url        article_time  \\\n",
       "0  https://meduza.io/feature/2020/01/16/meduzoid-... 2020-01-16 16:55:00   \n",
       "1  https://meduza.io/slides/nevidimaya-klaviatura... 2020-01-11 16:03:00   \n",
       "2  https://meduza.io/slides/20-luchshih-russkih-i... 2020-01-03 06:42:00   \n",
       "3  https://meduza.io/slides/razve-mozhet-robot-na... 2019-12-30 12:16:00   \n",
       "4  https://meduza.io/episodes/2019/12/27/novye-ch... 2019-12-27 15:00:00   \n",
       "\n",
       "                                        article_head  \\\n",
       "0  «Медузоид» из сердца крысы и киборги из лягуша...   \n",
       "1  Невидимая клавиатура, крадущийся автомобиль-кр...   \n",
       "2  20 лучших русских и иностранных книг за десяти...   \n",
       "3  Откуда искусственный интеллект берет вдохновен...   \n",
       "4  Новые черные дыры, аэромобили и другие приятны...   \n",
       "\n",
       "                                     article_content  \n",
       "0  Исследователи из Университета Тафстса Новая ра...  \n",
       "1  Каждый год на проходящей в Лас-Вегасе технолог...  \n",
       "2  «Медуза» продолжает подводить итоги десятилети...  \n",
       "3  В 2018 году на аукционе Christieʼs Иногда гово...  \n",
       "4  Несколько месяцев подряд в подкасте «Так и буд...  "
      ]
     },
     "execution_count": 15,
     "metadata": {},
     "output_type": "execute_result"
    }
   ],
   "source": [
    "df.head()"
   ]
  },
  {
   "cell_type": "code",
   "execution_count": 16,
   "metadata": {},
   "outputs": [],
   "source": [
    "df.sort_values('article_time', inplace=True)"
   ]
  },
  {
   "cell_type": "code",
   "execution_count": 17,
   "metadata": {},
   "outputs": [
    {
     "data": {
      "text/plain": [
       "2019    367\n",
       "2017    269\n",
       "2018    260\n",
       "2016    208\n",
       "2015     64\n",
       "2020      8\n",
       "2014      5\n",
       "Name: article_time, dtype: int64"
      ]
     },
     "execution_count": 17,
     "metadata": {},
     "output_type": "execute_result"
    }
   ],
   "source": [
    "df.article_time.dt.year.value_counts()"
   ]
  },
  {
   "cell_type": "code",
   "execution_count": 76,
   "metadata": {},
   "outputs": [],
   "source": [
    "df.article_time = df.article_time.dt.year"
   ]
  },
  {
   "cell_type": "markdown",
   "metadata": {},
   "source": [
    "## Time analysis"
   ]
  },
  {
   "cell_type": "code",
   "execution_count": 77,
   "metadata": {},
   "outputs": [],
   "source": [
    "stops = list(stopwords.words('russian'))"
   ]
  },
  {
   "cell_type": "code",
   "execution_count": 78,
   "metadata": {},
   "outputs": [],
   "source": [
    "stem = Mystem()\n",
    "lem = WordNetLemmatizer()"
   ]
  },
  {
   "cell_type": "markdown",
   "metadata": {},
   "source": [
    "### 2015"
   ]
  },
  {
   "cell_type": "code",
   "execution_count": 80,
   "metadata": {},
   "outputs": [],
   "source": [
    "df15 = df.query('article_time == 2015')"
   ]
  },
  {
   "cell_type": "code",
   "execution_count": 81,
   "metadata": {},
   "outputs": [
    {
     "data": {
      "text/html": [
       "<div>\n",
       "<style scoped>\n",
       "    .dataframe tbody tr th:only-of-type {\n",
       "        vertical-align: middle;\n",
       "    }\n",
       "\n",
       "    .dataframe tbody tr th {\n",
       "        vertical-align: top;\n",
       "    }\n",
       "\n",
       "    .dataframe thead th {\n",
       "        text-align: right;\n",
       "    }\n",
       "</style>\n",
       "<table border=\"1\" class=\"dataframe\">\n",
       "  <thead>\n",
       "    <tr style=\"text-align: right;\">\n",
       "      <th></th>\n",
       "      <th>article_url</th>\n",
       "      <th>article_time</th>\n",
       "      <th>article_head</th>\n",
       "      <th>article_content</th>\n",
       "    </tr>\n",
       "  </thead>\n",
       "  <tbody>\n",
       "    <tr>\n",
       "      <th>269</th>\n",
       "      <td>https://meduza.io/feature/2015/12/17/26-letniy...</td>\n",
       "      <td>2015</td>\n",
       "      <td>26-летний хакер собрал беспилотную машину. За ...</td>\n",
       "      <td>Автомобили, способные ездить без участия челов...</td>\n",
       "    </tr>\n",
       "    <tr>\n",
       "      <th>270</th>\n",
       "      <td>https://meduza.io/news/2015/12/12/ilon-mask-ob...</td>\n",
       "      <td>2015</td>\n",
       "      <td>Илон Маск объявил о создании НКО для исследова...</td>\n",
       "      <td>Основатель Tesla Motors и SpaceX Илон Маск объ...</td>\n",
       "    </tr>\n",
       "    <tr>\n",
       "      <th>271</th>\n",
       "      <td>https://meduza.io/quiz/kto-dovolnee-putin-ili-...</td>\n",
       "      <td>2015</td>\n",
       "      <td>Кто довольнее: Путин или Обама?</td>\n",
       "      <td>Microsoft запустила сервис, в котором робот уг...</td>\n",
       "    </tr>\n",
       "    <tr>\n",
       "      <th>272</th>\n",
       "      <td>https://meduza.io/feature/2015/11/02/lyudi-ne-...</td>\n",
       "      <td>2015</td>\n",
       "      <td>«Люди не заняты исламом, христианством, иудаиз...</td>\n",
       "      <td>Проект «Открытая библиотека» в Санкт-Петербург...</td>\n",
       "    </tr>\n",
       "    <tr>\n",
       "      <th>273</th>\n",
       "      <td>https://meduza.io/shapito/2015/10/28/issledova...</td>\n",
       "      <td>2015</td>\n",
       "      <td>Исследователи научили Wi-Fi различать силуэты ...</td>\n",
       "      <td>Исследователи из Массачусетского технологическ...</td>\n",
       "    </tr>\n",
       "  </tbody>\n",
       "</table>\n",
       "</div>"
      ],
      "text/plain": [
       "                                           article_url  article_time  \\\n",
       "269  https://meduza.io/feature/2015/12/17/26-letniy...          2015   \n",
       "270  https://meduza.io/news/2015/12/12/ilon-mask-ob...          2015   \n",
       "271  https://meduza.io/quiz/kto-dovolnee-putin-ili-...          2015   \n",
       "272  https://meduza.io/feature/2015/11/02/lyudi-ne-...          2015   \n",
       "273  https://meduza.io/shapito/2015/10/28/issledova...          2015   \n",
       "\n",
       "                                          article_head  \\\n",
       "269  26-летний хакер собрал беспилотную машину. За ...   \n",
       "270  Илон Маск объявил о создании НКО для исследова...   \n",
       "271                    Кто довольнее: Путин или Обама?   \n",
       "272  «Люди не заняты исламом, христианством, иудаиз...   \n",
       "273  Исследователи научили Wi-Fi различать силуэты ...   \n",
       "\n",
       "                                       article_content  \n",
       "269  Автомобили, способные ездить без участия челов...  \n",
       "270  Основатель Tesla Motors и SpaceX Илон Маск объ...  \n",
       "271  Microsoft запустила сервис, в котором робот уг...  \n",
       "272  Проект «Открытая библиотека» в Санкт-Петербург...  \n",
       "273  Исследователи из Массачусетского технологическ...  "
      ]
     },
     "execution_count": 81,
     "metadata": {},
     "output_type": "execute_result"
    }
   ],
   "source": [
    "df15.head()"
   ]
  },
  {
   "cell_type": "code",
   "execution_count": 82,
   "metadata": {},
   "outputs": [
    {
     "data": {
      "application/vnd.jupyter.widget-view+json": {
       "model_id": "1a3d0ca0b5a8459ebf0cca3b8fac6ff9",
       "version_major": 2,
       "version_minor": 0
      },
      "text/plain": [
       "HBox(children=(FloatProgress(value=0.0, max=62.0), HTML(value='')))"
      ]
     },
     "metadata": {},
     "output_type": "display_data"
    },
    {
     "name": "stdout",
     "output_type": "stream",
     "text": [
      "\n"
     ]
    }
   ],
   "source": [
    "texts = [word_tokenize(re.sub('[^А-яA-z ]+', ' ', txt.lower())) for txt in tqdm(df15.article_content.values)]"
   ]
  },
  {
   "cell_type": "code",
   "execution_count": 83,
   "metadata": {},
   "outputs": [
    {
     "data": {
      "application/vnd.jupyter.widget-view+json": {
       "model_id": "e8017e13d55e4de69f4b085106942c96",
       "version_major": 2,
       "version_minor": 0
      },
      "text/plain": [
       "HBox(children=(FloatProgress(value=0.0, max=62.0), HTML(value='')))"
      ]
     },
     "metadata": {},
     "output_type": "display_data"
    },
    {
     "name": "stdout",
     "output_type": "stream",
     "text": [
      "\n"
     ]
    }
   ],
   "source": [
    "stemmer = SnowballStemmer(\"russian\")\n",
    "texts_prepared = [' '.join([word for word in text if word not in stops]) for text in tqdm(texts)]"
   ]
  },
  {
   "cell_type": "code",
   "execution_count": 84,
   "metadata": {},
   "outputs": [
    {
     "data": {
      "text/plain": [
       "<matplotlib.axes._subplots.AxesSubplot at 0x25e7d246cd0>"
      ]
     },
     "execution_count": 84,
     "metadata": {},
     "output_type": "execute_result"
    },
    {
     "data": {
      "image/png": "[encoded data removed]",
      "text/plain": [
       "<Figure size 1080x360 with 1 Axes>"
      ]
     },
     "metadata": {
      "needs_background": "light"
     },
     "output_type": "display_data"
    }
   ],
   "source": [
    "pd.Series(' '.join(texts_prepared).split(' ')).value_counts().head(20).plot(kind='bar')"
   ]
  },
  {
   "cell_type": "markdown",
   "metadata": {},
   "source": [
    "### 2016"
   ]
  },
  {
   "cell_type": "code",
   "execution_count": 85,
   "metadata": {},
   "outputs": [],
   "source": [
    "df16 = df.query('article_time == 2016')"
   ]
  },
  {
   "cell_type": "code",
   "execution_count": 86,
   "metadata": {},
   "outputs": [
    {
     "data": {
      "text/html": [
       "<div>\n",
       "<style scoped>\n",
       "    .dataframe tbody tr th:only-of-type {\n",
       "        vertical-align: middle;\n",
       "    }\n",
       "\n",
       "    .dataframe tbody tr th {\n",
       "        vertical-align: top;\n",
       "    }\n",
       "\n",
       "    .dataframe thead th {\n",
       "        text-align: right;\n",
       "    }\n",
       "</style>\n",
       "<table border=\"1\" class=\"dataframe\">\n",
       "  <thead>\n",
       "    <tr style=\"text-align: right;\">\n",
       "      <th></th>\n",
       "      <th>article_url</th>\n",
       "      <th>article_time</th>\n",
       "      <th>article_head</th>\n",
       "      <th>article_content</th>\n",
       "    </tr>\n",
       "  </thead>\n",
       "  <tbody>\n",
       "    <tr>\n",
       "      <th>211</th>\n",
       "      <td>https://meduza.io/cards/data-science-eto-voobs...</td>\n",
       "      <td>2016</td>\n",
       "      <td>Data Science — это вообще работает?</td>\n",
       "      <td>Вообще говоря, Data Science — это набор конкре...</td>\n",
       "    </tr>\n",
       "    <tr>\n",
       "      <th>212</th>\n",
       "      <td>https://meduza.io/news/2016/12/23/avril-lavin-...</td>\n",
       "      <td>2016</td>\n",
       "      <td>Аврил Лавин попросила Марка Цукерберга не оско...</td>\n",
       "      <td>Певица Аврил Лавин заступилась за группу Nicke...</td>\n",
       "    </tr>\n",
       "    <tr>\n",
       "      <th>213</th>\n",
       "      <td>https://meduza.io/shapito/2016/12/21/dzharvis-...</td>\n",
       "      <td>2016</td>\n",
       "      <td>Джарвис, пришли футболку</td>\n",
       "      <td>В начале 2016 года основатель Facebook Марк Цу...</td>\n",
       "    </tr>\n",
       "    <tr>\n",
       "      <th>214</th>\n",
       "      <td>https://meduza.io/news/2016/12/19/zhurnal-natu...</td>\n",
       "      <td>2016</td>\n",
       "      <td>Журнал Nature включил создателя пиратского сай...</td>\n",
       "      <td>Александра Элбакян из Казахстана, создавшая пи...</td>\n",
       "    </tr>\n",
       "    <tr>\n",
       "      <th>215</th>\n",
       "      <td>https://meduza.io/feature/2016/12/17/vse-zakon...</td>\n",
       "      <td>2016</td>\n",
       "      <td>Все законы робототехники</td>\n",
       "      <td>Глава совета директоров Mail.Ru и основатель к...</td>\n",
       "    </tr>\n",
       "  </tbody>\n",
       "</table>\n",
       "</div>"
      ],
      "text/plain": [
       "                                           article_url  article_time  \\\n",
       "211  https://meduza.io/cards/data-science-eto-voobs...          2016   \n",
       "212  https://meduza.io/news/2016/12/23/avril-lavin-...          2016   \n",
       "213  https://meduza.io/shapito/2016/12/21/dzharvis-...          2016   \n",
       "214  https://meduza.io/news/2016/12/19/zhurnal-natu...          2016   \n",
       "215  https://meduza.io/feature/2016/12/17/vse-zakon...          2016   \n",
       "\n",
       "                                          article_head  \\\n",
       "211                Data Science — это вообще работает?   \n",
       "212  Аврил Лавин попросила Марка Цукерберга не оско...   \n",
       "213                           Джарвис, пришли футболку   \n",
       "214  Журнал Nature включил создателя пиратского сай...   \n",
       "215                           Все законы робототехники   \n",
       "\n",
       "                                       article_content  \n",
       "211  Вообще говоря, Data Science — это набор конкре...  \n",
       "212  Певица Аврил Лавин заступилась за группу Nicke...  \n",
       "213  В начале 2016 года основатель Facebook Марк Цу...  \n",
       "214  Александра Элбакян из Казахстана, создавшая пи...  \n",
       "215  Глава совета директоров Mail.Ru и основатель к...  "
      ]
     },
     "execution_count": 86,
     "metadata": {},
     "output_type": "execute_result"
    }
   ],
   "source": [
    "df16.head()"
   ]
  },
  {
   "cell_type": "code",
   "execution_count": 87,
   "metadata": {},
   "outputs": [
    {
     "data": {
      "application/vnd.jupyter.widget-view+json": {
       "model_id": "30fe8684d7044dc1b6269cc6ac955ce4",
       "version_major": 2,
       "version_minor": 0
      },
      "text/plain": [
       "HBox(children=(FloatProgress(value=0.0, max=188.0), HTML(value='')))"
      ]
     },
     "metadata": {},
     "output_type": "display_data"
    },
    {
     "name": "stdout",
     "output_type": "stream",
     "text": [
      "\n"
     ]
    }
   ],
   "source": [
    "texts = [word_tokenize(re.sub('[^А-яA-z ]+', ' ', txt.lower())) for txt in tqdm(df16.article_content.values)]"
   ]
  },
  {
   "cell_type": "code",
   "execution_count": 88,
   "metadata": {},
   "outputs": [
    {
     "data": {
      "application/vnd.jupyter.widget-view+json": {
       "model_id": "cec210e6ae0842b8bcb5218e285dfceb",
       "version_major": 2,
       "version_minor": 0
      },
      "text/plain": [
       "HBox(children=(FloatProgress(value=0.0, max=188.0), HTML(value='')))"
      ]
     },
     "metadata": {},
     "output_type": "display_data"
    },
    {
     "name": "stdout",
     "output_type": "stream",
     "text": [
      "\n"
     ]
    }
   ],
   "source": [
    "stemmer = SnowballStemmer(\"russian\")\n",
    "texts_prepared = [' '.join([word for word in text if word not in stops]) for text in tqdm(texts)]"
   ]
  },
  {
   "cell_type": "code",
   "execution_count": 89,
   "metadata": {},
   "outputs": [
    {
     "data": {
      "text/plain": [
       "<matplotlib.axes._subplots.AxesSubplot at 0x25e796c9580>"
      ]
     },
     "execution_count": 89,
     "metadata": {},
     "output_type": "execute_result"
    },
    {
     "data": {
      "image/png": "[encoded data removed]",
      "text/plain": [
       "<Figure size 1080x360 with 1 Axes>"
      ]
     },
     "metadata": {
      "needs_background": "light"
     },
     "output_type": "display_data"
    }
   ],
   "source": [
    "pd.Series(' '.join(texts_prepared).split(' ')).value_counts().head(40).plot(kind='bar')"
   ]
  },
  {
   "cell_type": "markdown",
   "metadata": {},
   "source": [
    "### 2017"
   ]
  },
  {
   "cell_type": "code",
   "execution_count": 90,
   "metadata": {},
   "outputs": [],
   "source": [
    "df17 = df.query('article_time == 2017')"
   ]
  },
  {
   "cell_type": "code",
   "execution_count": 91,
   "metadata": {},
   "outputs": [
    {
     "data": {
      "text/html": [
       "<div>\n",
       "<style scoped>\n",
       "    .dataframe tbody tr th:only-of-type {\n",
       "        vertical-align: middle;\n",
       "    }\n",
       "\n",
       "    .dataframe tbody tr th {\n",
       "        vertical-align: top;\n",
       "    }\n",
       "\n",
       "    .dataframe thead th {\n",
       "        text-align: right;\n",
       "    }\n",
       "</style>\n",
       "<table border=\"1\" class=\"dataframe\">\n",
       "  <thead>\n",
       "    <tr style=\"text-align: right;\">\n",
       "      <th></th>\n",
       "      <th>article_url</th>\n",
       "      <th>article_time</th>\n",
       "      <th>article_head</th>\n",
       "      <th>article_content</th>\n",
       "    </tr>\n",
       "  </thead>\n",
       "  <tbody>\n",
       "    <tr>\n",
       "      <th>150</th>\n",
       "      <td>https://meduza.io/feature/2017/12/22/pyat-neoc...</td>\n",
       "      <td>2017</td>\n",
       "      <td>Пять неочевидных причин все же прочитать «Прои...</td>\n",
       "      <td>На русском языке 22 декабря выходит роман Дэна...</td>\n",
       "    </tr>\n",
       "    <tr>\n",
       "      <th>151</th>\n",
       "      <td>https://meduza.io/news/2017/12/15/nasa-nashlo-...</td>\n",
       "      <td>2017</td>\n",
       "      <td>Ученые NASA нашли экзопланеты с помощью нейрос...</td>\n",
       "      <td>NASA сообщило об обнаружении экзопланет в сист...</td>\n",
       "    </tr>\n",
       "    <tr>\n",
       "      <th>152</th>\n",
       "      <td>https://meduza.io/shapito/2017/12/13/ron-byl-g...</td>\n",
       "      <td>2017</td>\n",
       "      <td>«Рон был громкой, медлительной, мягкой птичкой...</td>\n",
       "      <td>Чикагская студия Botnik В произведении нейросе...</td>\n",
       "    </tr>\n",
       "    <tr>\n",
       "      <th>153</th>\n",
       "      <td>https://meduza.io/shapito/2017/12/12/storyboar...</td>\n",
       "      <td>2017</td>\n",
       "      <td>Storyboard: экспериментальное приложение от Go...</td>\n",
       "      <td>Корпорация Google выпустила экспериментальное ...</td>\n",
       "    </tr>\n",
       "    <tr>\n",
       "      <th>154</th>\n",
       "      <td>https://meduza.io/feature/2017/12/09/zhurnalis...</td>\n",
       "      <td>2017</td>\n",
       "      <td>Журналист написал научно-фантастический расска...</td>\n",
       "      <td>Канадский журналист и писатель Стивен Марч нап...</td>\n",
       "    </tr>\n",
       "  </tbody>\n",
       "</table>\n",
       "</div>"
      ],
      "text/plain": [
       "                                           article_url  article_time  \\\n",
       "150  https://meduza.io/feature/2017/12/22/pyat-neoc...          2017   \n",
       "151  https://meduza.io/news/2017/12/15/nasa-nashlo-...          2017   \n",
       "152  https://meduza.io/shapito/2017/12/13/ron-byl-g...          2017   \n",
       "153  https://meduza.io/shapito/2017/12/12/storyboar...          2017   \n",
       "154  https://meduza.io/feature/2017/12/09/zhurnalis...          2017   \n",
       "\n",
       "                                          article_head  \\\n",
       "150  Пять неочевидных причин все же прочитать «Прои...   \n",
       "151  Ученые NASA нашли экзопланеты с помощью нейрос...   \n",
       "152  «Рон был громкой, медлительной, мягкой птичкой...   \n",
       "153  Storyboard: экспериментальное приложение от Go...   \n",
       "154  Журналист написал научно-фантастический расска...   \n",
       "\n",
       "                                       article_content  \n",
       "150  На русском языке 22 декабря выходит роман Дэна...  \n",
       "151  NASA сообщило об обнаружении экзопланет в сист...  \n",
       "152  Чикагская студия Botnik В произведении нейросе...  \n",
       "153  Корпорация Google выпустила экспериментальное ...  \n",
       "154  Канадский журналист и писатель Стивен Марч нап...  "
      ]
     },
     "execution_count": 91,
     "metadata": {},
     "output_type": "execute_result"
    }
   ],
   "source": [
    "df17.head()"
   ]
  },
  {
   "cell_type": "code",
   "execution_count": 92,
   "metadata": {},
   "outputs": [
    {
     "data": {
      "application/vnd.jupyter.widget-view+json": {
       "model_id": "315c388853014512b1166ce4550d2a04",
       "version_major": 2,
       "version_minor": 0
      },
      "text/plain": [
       "HBox(children=(FloatProgress(value=0.0, max=237.0), HTML(value='')))"
      ]
     },
     "metadata": {},
     "output_type": "display_data"
    },
    {
     "name": "stdout",
     "output_type": "stream",
     "text": [
      "\n"
     ]
    }
   ],
   "source": [
    "texts = [word_tokenize(re.sub('[^А-яA-z ]+', ' ', txt.lower())) for txt in tqdm(df17.article_content.values)]"
   ]
  },
  {
   "cell_type": "code",
   "execution_count": 93,
   "metadata": {},
   "outputs": [
    {
     "data": {
      "application/vnd.jupyter.widget-view+json": {
       "model_id": "ea9a3926b9374a3094830053a09677d9",
       "version_major": 2,
       "version_minor": 0
      },
      "text/plain": [
       "HBox(children=(FloatProgress(value=0.0, max=237.0), HTML(value='')))"
      ]
     },
     "metadata": {},
     "output_type": "display_data"
    },
    {
     "name": "stdout",
     "output_type": "stream",
     "text": [
      "\n"
     ]
    }
   ],
   "source": [
    "stemmer = SnowballStemmer(\"russian\")\n",
    "texts_prepared = [' '.join([word for word in text if word not in stops]) for text in tqdm(texts)]"
   ]
  },
  {
   "cell_type": "code",
   "execution_count": 94,
   "metadata": {},
   "outputs": [
    {
     "data": {
      "text/plain": [
       "<matplotlib.axes._subplots.AxesSubplot at 0x25e7e93ff40>"
      ]
     },
     "execution_count": 94,
     "metadata": {},
     "output_type": "execute_result"
    },
    {
     "data": {
      "image/png": "[encoded data removed]",
      "text/plain": [
       "<Figure size 1080x360 with 1 Axes>"
      ]
     },
     "metadata": {
      "needs_background": "light"
     },
     "output_type": "display_data"
    }
   ],
   "source": [
    "pd.Series(' '.join(texts_prepared).split(' ')).value_counts().head(40).plot(kind='bar')"
   ]
  },
  {
   "cell_type": "markdown",
   "metadata": {},
   "source": [
    "### 2018"
   ]
  },
  {
   "cell_type": "code",
   "execution_count": 95,
   "metadata": {},
   "outputs": [],
   "source": [
    "df18 = df.query('article_time == 2018')"
   ]
  },
  {
   "cell_type": "code",
   "execution_count": 96,
   "metadata": {},
   "outputs": [
    {
     "data": {
      "text/html": [
       "<div>\n",
       "<style scoped>\n",
       "    .dataframe tbody tr th:only-of-type {\n",
       "        vertical-align: middle;\n",
       "    }\n",
       "\n",
       "    .dataframe tbody tr th {\n",
       "        vertical-align: top;\n",
       "    }\n",
       "\n",
       "    .dataframe thead th {\n",
       "        text-align: right;\n",
       "    }\n",
       "</style>\n",
       "<table border=\"1\" class=\"dataframe\">\n",
       "  <thead>\n",
       "    <tr style=\"text-align: right;\">\n",
       "      <th></th>\n",
       "      <th>article_url</th>\n",
       "      <th>article_time</th>\n",
       "      <th>article_head</th>\n",
       "      <th>article_content</th>\n",
       "    </tr>\n",
       "  </thead>\n",
       "  <tbody>\n",
       "    <tr>\n",
       "      <th>96</th>\n",
       "      <td>https://meduza.io/slides/kak-nevidimye-roboty-...</td>\n",
       "      <td>2018</td>\n",
       "      <td>Справки, выписки, проверки — все это можно дов...</td>\n",
       "      <td>В каждой компании есть процессы, состоящие из ...</td>\n",
       "    </tr>\n",
       "    <tr>\n",
       "      <th>97</th>\n",
       "      <td>https://meduza.io/games/smozhete-li-vy-stat-da...</td>\n",
       "      <td>2018</td>\n",
       "      <td>Сможете ли вы стать data-специалистом?</td>\n",
       "      <td>Если верить сайтам с вакансиями, data-специали...</td>\n",
       "    </tr>\n",
       "    <tr>\n",
       "      <th>98</th>\n",
       "      <td>https://meduza.io/feature/2018/12/17/lyudi-sno...</td>\n",
       "      <td>2018</td>\n",
       "      <td>Люди снова проиграли искусственному интеллекту...</td>\n",
       "      <td>Команда Microsoft В конкурсе участвовали пять ...</td>\n",
       "    </tr>\n",
       "    <tr>\n",
       "      <th>99</th>\n",
       "      <td>https://meduza.io/shapito/2018/12/12/rossiya-2...</td>\n",
       "      <td>2018</td>\n",
       "      <td>«Россия 24» рассказала о «самых современных ро...</td>\n",
       "      <td>Телеканал «Россия 24» в сюжете про всероссийск...</td>\n",
       "    </tr>\n",
       "    <tr>\n",
       "      <th>100</th>\n",
       "      <td>https://meduza.io/news/2018/12/11/sberbank-moz...</td>\n",
       "      <td>2018</td>\n",
       "      <td>Сбербанк может отказаться от слова «банк» в на...</td>\n",
       "      <td>Из названия Сбербанка может исчезнуть вторая ч...</td>\n",
       "    </tr>\n",
       "  </tbody>\n",
       "</table>\n",
       "</div>"
      ],
      "text/plain": [
       "                                           article_url  article_time  \\\n",
       "96   https://meduza.io/slides/kak-nevidimye-roboty-...          2018   \n",
       "97   https://meduza.io/games/smozhete-li-vy-stat-da...          2018   \n",
       "98   https://meduza.io/feature/2018/12/17/lyudi-sno...          2018   \n",
       "99   https://meduza.io/shapito/2018/12/12/rossiya-2...          2018   \n",
       "100  https://meduza.io/news/2018/12/11/sberbank-moz...          2018   \n",
       "\n",
       "                                          article_head  \\\n",
       "96   Справки, выписки, проверки — все это можно дов...   \n",
       "97              Сможете ли вы стать data-специалистом?   \n",
       "98   Люди снова проиграли искусственному интеллекту...   \n",
       "99   «Россия 24» рассказала о «самых современных ро...   \n",
       "100  Сбербанк может отказаться от слова «банк» в на...   \n",
       "\n",
       "                                       article_content  \n",
       "96   В каждой компании есть процессы, состоящие из ...  \n",
       "97   Если верить сайтам с вакансиями, data-специали...  \n",
       "98   Команда Microsoft В конкурсе участвовали пять ...  \n",
       "99   Телеканал «Россия 24» в сюжете про всероссийск...  \n",
       "100  Из названия Сбербанка может исчезнуть вторая ч...  "
      ]
     },
     "execution_count": 96,
     "metadata": {},
     "output_type": "execute_result"
    }
   ],
   "source": [
    "df18.head()"
   ]
  },
  {
   "cell_type": "code",
   "execution_count": 97,
   "metadata": {},
   "outputs": [
    {
     "data": {
      "application/vnd.jupyter.widget-view+json": {
       "model_id": "",
       "version_major": 2,
       "version_minor": 0
      },
      "text/plain": [
       "HBox(children=(FloatProgress(value=0.0, max=227.0), HTML(value='')))"
      ]
     },
     "metadata": {},
     "output_type": "display_data"
    },
    {
     "name": "stdout",
     "output_type": "stream",
     "text": [
      "\n"
     ]
    }
   ],
   "source": [
    "texts = [word_tokenize(re.sub('[^А-яA-z ]+', ' ', txt.lower())) for txt in tqdm(df18.article_content.values)]"
   ]
  },
  {
   "cell_type": "code",
   "execution_count": 98,
   "metadata": {},
   "outputs": [
    {
     "data": {
      "application/vnd.jupyter.widget-view+json": {
       "model_id": "",
       "version_major": 2,
       "version_minor": 0
      },
      "text/plain": [
       "HBox(children=(FloatProgress(value=0.0, max=227.0), HTML(value='')))"
      ]
     },
     "metadata": {},
     "output_type": "display_data"
    },
    {
     "name": "stdout",
     "output_type": "stream",
     "text": [
      "\n"
     ]
    }
   ],
   "source": [
    "stemmer = SnowballStemmer(\"russian\")\n",
    "texts_prepared = [' '.join([word for word in text if word not in stops]) for text in tqdm(texts)]"
   ]
  },
  {
   "cell_type": "code",
   "execution_count": 99,
   "metadata": {},
   "outputs": [
    {
     "data": {
      "text/plain": [
       "<matplotlib.axes._subplots.AxesSubplot at 0x25e7e94e6d0>"
      ]
     },
     "execution_count": 99,
     "metadata": {},
     "output_type": "execute_result"
    },
    {
     "data": {
      "image/png": "[encoded data removed]",
      "text/plain": [
       "<Figure size 1080x360 with 1 Axes>"
      ]
     },
     "metadata": {
      "needs_background": "light"
     },
     "output_type": "display_data"
    }
   ],
   "source": [
    "pd.Series(' '.join(texts_prepared).split(' ')).value_counts().head(40).plot(kind='bar')"
   ]
  },
  {
   "cell_type": "markdown",
   "metadata": {},
   "source": [
    "### 2019"
   ]
  },
  {
   "cell_type": "code",
   "execution_count": 100,
   "metadata": {},
   "outputs": [],
   "source": [
    "df19 = df.query('article_time == 2019')"
   ]
  },
  {
   "cell_type": "code",
   "execution_count": 101,
   "metadata": {},
   "outputs": [
    {
     "data": {
      "text/html": [
       "<div>\n",
       "<style scoped>\n",
       "    .dataframe tbody tr th:only-of-type {\n",
       "        vertical-align: middle;\n",
       "    }\n",
       "\n",
       "    .dataframe tbody tr th {\n",
       "        vertical-align: top;\n",
       "    }\n",
       "\n",
       "    .dataframe thead th {\n",
       "        text-align: right;\n",
       "    }\n",
       "</style>\n",
       "<table border=\"1\" class=\"dataframe\">\n",
       "  <thead>\n",
       "    <tr style=\"text-align: right;\">\n",
       "      <th></th>\n",
       "      <th>article_url</th>\n",
       "      <th>article_time</th>\n",
       "      <th>article_head</th>\n",
       "      <th>article_content</th>\n",
       "    </tr>\n",
       "  </thead>\n",
       "  <tbody>\n",
       "    <tr>\n",
       "      <th>3</th>\n",
       "      <td>https://meduza.io/slides/razve-mozhet-robot-na...</td>\n",
       "      <td>2019</td>\n",
       "      <td>Откуда искусственный интеллект берет вдохновен...</td>\n",
       "      <td>В 2018 году на аукционе Christieʼs Иногда гово...</td>\n",
       "    </tr>\n",
       "    <tr>\n",
       "      <th>4</th>\n",
       "      <td>https://meduza.io/episodes/2019/12/27/novye-ch...</td>\n",
       "      <td>2019</td>\n",
       "      <td>Новые черные дыры, аэромобили и другие приятны...</td>\n",
       "      <td>Несколько месяцев подряд в подкасте «Так и буд...</td>\n",
       "    </tr>\n",
       "    <tr>\n",
       "      <th>5</th>\n",
       "      <td>https://meduza.io/feature/2019/12/27/rossiyski...</td>\n",
       "      <td>2019</td>\n",
       "      <td>Российский технологический университет ввел за...</td>\n",
       "      <td>В ходе зимней сессии 2019 года две тысячи студ...</td>\n",
       "    </tr>\n",
       "    <tr>\n",
       "      <th>6</th>\n",
       "      <td>https://meduza.io/news/2019/12/25/mts-razrabot...</td>\n",
       "      <td>2019</td>\n",
       "      <td>МТС разработала умную колонку и голосового пом...</td>\n",
       "      <td>МТС разработала умную колонку, голосового помо...</td>\n",
       "    </tr>\n",
       "    <tr>\n",
       "      <th>7</th>\n",
       "      <td>https://meduza.io/shapito/2019/12/23/mark-tsuk...</td>\n",
       "      <td>2019</td>\n",
       "      <td>Марк Цукерберг отказался от интервью с The Gua...</td>\n",
       "      <td>Раньше основатель Facebook Марк Цукерберг не л...</td>\n",
       "    </tr>\n",
       "  </tbody>\n",
       "</table>\n",
       "</div>"
      ],
      "text/plain": [
       "                                         article_url  article_time  \\\n",
       "3  https://meduza.io/slides/razve-mozhet-robot-na...          2019   \n",
       "4  https://meduza.io/episodes/2019/12/27/novye-ch...          2019   \n",
       "5  https://meduza.io/feature/2019/12/27/rossiyski...          2019   \n",
       "6  https://meduza.io/news/2019/12/25/mts-razrabot...          2019   \n",
       "7  https://meduza.io/shapito/2019/12/23/mark-tsuk...          2019   \n",
       "\n",
       "                                        article_head  \\\n",
       "3  Откуда искусственный интеллект берет вдохновен...   \n",
       "4  Новые черные дыры, аэромобили и другие приятны...   \n",
       "5  Российский технологический университет ввел за...   \n",
       "6  МТС разработала умную колонку и голосового пом...   \n",
       "7  Марк Цукерберг отказался от интервью с The Gua...   \n",
       "\n",
       "                                     article_content  \n",
       "3  В 2018 году на аукционе Christieʼs Иногда гово...  \n",
       "4  Несколько месяцев подряд в подкасте «Так и буд...  \n",
       "5  В ходе зимней сессии 2019 года две тысячи студ...  \n",
       "6  МТС разработала умную колонку, голосового помо...  \n",
       "7  Раньше основатель Facebook Марк Цукерберг не л...  "
      ]
     },
     "execution_count": 101,
     "metadata": {},
     "output_type": "execute_result"
    }
   ],
   "source": [
    "df19.head()"
   ]
  },
  {
   "cell_type": "code",
   "execution_count": 102,
   "metadata": {},
   "outputs": [
    {
     "data": {
      "application/vnd.jupyter.widget-view+json": {
       "model_id": "663210cd85764e41956e0b6662d122e6",
       "version_major": 2,
       "version_minor": 0
      },
      "text/plain": [
       "HBox(children=(FloatProgress(value=0.0, max=316.0), HTML(value='')))"
      ]
     },
     "metadata": {},
     "output_type": "display_data"
    },
    {
     "name": "stdout",
     "output_type": "stream",
     "text": [
      "\n"
     ]
    }
   ],
   "source": [
    "texts = [word_tokenize(re.sub('[^А-яA-z ]+', ' ', txt.lower())) for txt in tqdm(df19.article_content.values)]"
   ]
  },
  {
   "cell_type": "code",
   "execution_count": 103,
   "metadata": {},
   "outputs": [
    {
     "data": {
      "application/vnd.jupyter.widget-view+json": {
       "model_id": "1e55c7a5d2f94b5db3dda2ea9512aee8",
       "version_major": 2,
       "version_minor": 0
      },
      "text/plain": [
       "HBox(children=(FloatProgress(value=0.0, max=316.0), HTML(value='')))"
      ]
     },
     "metadata": {},
     "output_type": "display_data"
    },
    {
     "name": "stdout",
     "output_type": "stream",
     "text": [
      "\n"
     ]
    }
   ],
   "source": [
    "stemmer = SnowballStemmer(\"russian\")\n",
    "texts_prepared = [' '.join([word for word in text if word not in stops]) for text in tqdm(texts)]"
   ]
  },
  {
   "cell_type": "code",
   "execution_count": 104,
   "metadata": {},
   "outputs": [
    {
     "data": {
      "text/plain": [
       "<matplotlib.axes._subplots.AxesSubplot at 0x25e7bce8820>"
      ]
     },
     "execution_count": 104,
     "metadata": {},
     "output_type": "execute_result"
    },
    {
     "data": {
      "image/png": "[encoded data removed]",
      "text/plain": [
       "<Figure size 1080x360 with 1 Axes>"
      ]
     },
     "metadata": {
      "needs_background": "light"
     },
     "output_type": "display_data"
    }
   ],
   "source": [
    "pd.Series(' '.join(texts_prepared).split(' ')).value_counts().head(40).plot(kind='bar')"
   ]
  },
  {
   "cell_type": "code",
   "execution_count": null,
   "metadata": {},
   "outputs": [],
   "source": []
  },
  {
   "cell_type": "code",
   "execution_count": null,
   "metadata": {},
   "outputs": [],
   "source": []
  }
 ],
 "metadata": {
  "kernelspec": {
   "display_name": "Python 3",
   "language": "python",
   "name": "python3"
  },
  "language_info": {
   "codemirror_mode": {
    "name": "ipython",
    "version": 3
   },
   "file_extension": ".py",
   "mimetype": "text/x-python",
   "name": "python",
   "nbconvert_exporter": "python",
   "pygments_lexer": "ipython3",
   "version": "3.8.1"
  }
 },
 "nbformat": 4,
 "nbformat_minor": 1
}
