{
 "cells": [
  {
   "cell_type": "code",
   "execution_count": 1,
   "metadata": {},
   "outputs": [],
   "source": [
    "import pandas as pd\n",
    "import numpy as np\n",
    "import matplotlib.pyplot as plt\n",
    "import nltk\n",
    "import re\n",
    "nltk.download('stopwords')\n",
    "nltk.download('punkt')\n",
    "from nltk.corpus import stopwords\n",
    "from nltk.tokenize import word_tokenize\n",
    "from nltk.stem.snowball import SnowballStemmer\n",
    "\n",
    "from sklearn.feature_extraction.text import TfidfVectorizer\n",
    "from sklearn.decomposition import LatentDirichletAllocation\n"
   ]
  },
  {
   "cell_type": "markdown",
   "metadata": {},
   "source": [
    "# EDA"
   ]
  },
  {
   "cell_type": "markdown",
   "metadata": {},
   "source": [
    "## Tjonral"
   ]
  },
  {
   "cell_type": "code",
   "execution_count": 65,
   "metadata": {},
   "outputs": [],
   "source": [
    "df_tjornal = pd.read_csv('tjornal.csv')"
   ]
  },
  {
   "cell_type": "code",
   "execution_count": 66,
   "metadata": {},
   "outputs": [
    {
     "data": {
      "text/html": [
       "<div>\n",
       "<style scoped>\n",
       "    .dataframe tbody tr th:only-of-type {\n",
       "        vertical-align: middle;\n",
       "    }\n",
       "\n",
       "    .dataframe tbody tr th {\n",
       "        vertical-align: top;\n",
       "    }\n",
       "\n",
       "    .dataframe thead th {\n",
       "        text-align: right;\n",
       "    }\n",
       "</style>\n",
       "<table border=\"1\" class=\"dataframe\">\n",
       "  <thead>\n",
       "    <tr style=\"text-align: right;\">\n",
       "      <th></th>\n",
       "      <th>article_url</th>\n",
       "      <th>article_time</th>\n",
       "      <th>article_head</th>\n",
       "      <th>article_content</th>\n",
       "    </tr>\n",
       "  </thead>\n",
       "  <tbody>\n",
       "    <tr>\n",
       "      <th>0</th>\n",
       "      <td>https://tjournal.ru/u/274224-anatoliy-tihvinsk...</td>\n",
       "      <td>11.11.2019 17:33</td>\n",
       "      <td>ИСКУССТВЕННЫЙ ИНТЕЛЛЕКТ</td>\n",
       "      <td>Люди создали Искусственный Интеллект и открыл...</td>\n",
       "    </tr>\n",
       "    <tr>\n",
       "      <th>1</th>\n",
       "      <td>https://tjournal.ru/internet/131681-iskusstven...</td>\n",
       "      <td>18.12.2019 00:15</td>\n",
       "      <td>Искусственный интеллект</td>\n",
       "      <td></td>\n",
       "    </tr>\n",
       "    <tr>\n",
       "      <th>2</th>\n",
       "      <td>https://tjournal.ru/tech/125621-iskusstvennyy-...</td>\n",
       "      <td>14.11.2019 04:41</td>\n",
       "      <td>Искусственный интеллект обучили копировать чуж...</td>\n",
       "      <td></td>\n",
       "    </tr>\n",
       "    <tr>\n",
       "      <th>3</th>\n",
       "      <td>https://tjournal.ru/news/116219-vkontakte-vper...</td>\n",
       "      <td>13.09.2019 12:38</td>\n",
       "      <td>«ВКонтакте» впервые откроет научную лаборатори...</td>\n",
       "      <td>Кураторами лаборатории станут разработчики ко...</td>\n",
       "    </tr>\n",
       "    <tr>\n",
       "      <th>4</th>\n",
       "      <td>https://tjournal.ru/tech/131933-kazhdyy-iz-nih...</td>\n",
       "      <td>23.12.2019 11:35</td>\n",
       "      <td>Каждый из них играл за человечество: история п...</td>\n",
       "      <td>22 года развития ИИ в хронологии матчей – от ...</td>\n",
       "    </tr>\n",
       "  </tbody>\n",
       "</table>\n",
       "</div>"
      ],
      "text/plain": [
       "                                         article_url      article_time  \\\n",
       "0  https://tjournal.ru/u/274224-anatoliy-tihvinsk...  11.11.2019 17:33   \n",
       "1  https://tjournal.ru/internet/131681-iskusstven...  18.12.2019 00:15   \n",
       "2  https://tjournal.ru/tech/125621-iskusstvennyy-...  14.11.2019 04:41   \n",
       "3  https://tjournal.ru/news/116219-vkontakte-vper...  13.09.2019 12:38   \n",
       "4  https://tjournal.ru/tech/131933-kazhdyy-iz-nih...  23.12.2019 11:35   \n",
       "\n",
       "                                        article_head  \\\n",
       "0                            ИСКУССТВЕННЫЙ ИНТЕЛЛЕКТ   \n",
       "1                            Искусственный интеллект   \n",
       "2  Искусственный интеллект обучили копировать чуж...   \n",
       "3  «ВКонтакте» впервые откроет научную лаборатори...   \n",
       "4  Каждый из них играл за человечество: история п...   \n",
       "\n",
       "                                     article_content  \n",
       "0   Люди создали Искусственный Интеллект и открыл...  \n",
       "1                                                     \n",
       "2                                                     \n",
       "3   Кураторами лаборатории станут разработчики ко...  \n",
       "4   22 года развития ИИ в хронологии матчей – от ...  "
      ]
     },
     "execution_count": 66,
     "metadata": {},
     "output_type": "execute_result"
    }
   ],
   "source": [
    "df_tjornal.head()"
   ]
  },
  {
   "cell_type": "code",
   "execution_count": 4,
   "metadata": {},
   "outputs": [
    {
     "data": {
      "text/plain": [
       "(420, 5)"
      ]
     },
     "execution_count": 4,
     "metadata": {},
     "output_type": "execute_result"
    }
   ],
   "source": [
    "df_tjornal.shape"
   ]
  },
  {
   "cell_type": "code",
   "execution_count": 7,
   "metadata": {},
   "outputs": [
    {
     "data": {
      "text/plain": [
       "6"
      ]
     },
     "execution_count": 7,
     "metadata": {},
     "output_type": "execute_result"
    }
   ],
   "source": [
    "sum(df_tjornal.article_content == ' ')"
   ]
  },
  {
   "cell_type": "code",
   "execution_count": 9,
   "metadata": {},
   "outputs": [
    {
     "data": {
      "text/plain": [
       "(396, 6)"
      ]
     },
     "execution_count": 9,
     "metadata": {},
     "output_type": "execute_result"
    }
   ],
   "source": [
    "df_tjornal.drop_duplicates(subset=['article_url']).shape"
   ]
  },
  {
   "cell_type": "code",
   "execution_count": 6,
   "metadata": {},
   "outputs": [],
   "source": [
    "df_tjornal['article_length'] = df_tjornal.article_content.apply(lambda x: len(x) if x is not np.nan else np.nan)"
   ]
  },
  {
   "cell_type": "code",
   "execution_count": 34,
   "metadata": {},
   "outputs": [
    {
     "data": {
      "text/plain": [
       "article_url        https://tjournal.ru/internet/131681-iskusstven...\n",
       "article_time                     18.12.2019 00:15:06 (Europe/Moscow)\n",
       "article_head                                 Искусственный интеллект\n",
       "article_author                                       Интернет и мемы\n",
       "article_content       Не понял прекол, переведите на питон  В язы...\n",
       "article_length                                                   421\n",
       "Name: 1, dtype: object"
      ]
     },
     "execution_count": 34,
     "metadata": {},
     "output_type": "execute_result"
    }
   ],
   "source": [
    "row[1]"
   ]
  },
  {
   "cell_type": "raw",
   "metadata": {
    "scrolled": false
   },
   "source": [
    "for row in df_tjornal.query('article_length < 500').itertuples(index=False):\n",
    "    print(row[0], '\\t', row[4])\n",
    "    print('\\n\\nnext')"
   ]
  },
  {
   "cell_type": "markdown",
   "metadata": {},
   "source": [
    "## Meduza"
   ]
  },
  {
   "cell_type": "code",
   "execution_count": 56,
   "metadata": {},
   "outputs": [],
   "source": [
    "df_meduza = pd.read_csv('meduza.csv', parse_dates=['article_time'])"
   ]
  },
  {
   "cell_type": "code",
   "execution_count": 57,
   "metadata": {},
   "outputs": [
    {
     "data": {
      "text/html": [
       "<div>\n",
       "<style scoped>\n",
       "    .dataframe tbody tr th:only-of-type {\n",
       "        vertical-align: middle;\n",
       "    }\n",
       "\n",
       "    .dataframe tbody tr th {\n",
       "        vertical-align: top;\n",
       "    }\n",
       "\n",
       "    .dataframe thead th {\n",
       "        text-align: right;\n",
       "    }\n",
       "</style>\n",
       "<table border=\"1\" class=\"dataframe\">\n",
       "  <thead>\n",
       "    <tr style=\"text-align: right;\">\n",
       "      <th></th>\n",
       "      <th>article_url</th>\n",
       "      <th>article_time</th>\n",
       "      <th>article_head</th>\n",
       "      <th>article_content</th>\n",
       "    </tr>\n",
       "  </thead>\n",
       "  <tbody>\n",
       "    <tr>\n",
       "      <th>0</th>\n",
       "      <td>https://meduza.io/feature/2020/01/16/meduzoid-...</td>\n",
       "      <td>2020-01-16 16:55:00</td>\n",
       "      <td>«Медузоид» из сердца крысы и киборги из лягуша...</td>\n",
       "      <td>Исследователи из Университета Тафстса Новая ра...</td>\n",
       "    </tr>\n",
       "    <tr>\n",
       "      <th>1</th>\n",
       "      <td>https://meduza.io/slides/nevidimaya-klaviatura...</td>\n",
       "      <td>2020-01-11 16:03:00</td>\n",
       "      <td>Невидимая клавиатура, крадущийся автомобиль-кр...</td>\n",
       "      <td>Каждый год на проходящей в Лас-Вегасе технолог...</td>\n",
       "    </tr>\n",
       "    <tr>\n",
       "      <th>2</th>\n",
       "      <td>https://meduza.io/slides/20-luchshih-russkih-i...</td>\n",
       "      <td>2020-01-03 06:42:00</td>\n",
       "      <td>20 лучших русских и иностранных книг за десяти...</td>\n",
       "      <td>«Медуза» продолжает подводить итоги десятилети...</td>\n",
       "    </tr>\n",
       "    <tr>\n",
       "      <th>3</th>\n",
       "      <td>https://meduza.io/slides/razve-mozhet-robot-na...</td>\n",
       "      <td>2019-12-30 12:16:00</td>\n",
       "      <td>Откуда искусственный интеллект берет вдохновен...</td>\n",
       "      <td>В 2018 году на аукционе Christieʼs Иногда гово...</td>\n",
       "    </tr>\n",
       "    <tr>\n",
       "      <th>4</th>\n",
       "      <td>https://meduza.io/episodes/2019/12/27/novye-ch...</td>\n",
       "      <td>2019-12-27 15:00:00</td>\n",
       "      <td>Новые черные дыры, аэромобили и другие приятны...</td>\n",
       "      <td>Несколько месяцев подряд в подкасте «Так и буд...</td>\n",
       "    </tr>\n",
       "  </tbody>\n",
       "</table>\n",
       "</div>"
      ],
      "text/plain": [
       "                                         article_url        article_time  \\\n",
       "0  https://meduza.io/feature/2020/01/16/meduzoid-... 2020-01-16 16:55:00   \n",
       "1  https://meduza.io/slides/nevidimaya-klaviatura... 2020-01-11 16:03:00   \n",
       "2  https://meduza.io/slides/20-luchshih-russkih-i... 2020-01-03 06:42:00   \n",
       "3  https://meduza.io/slides/razve-mozhet-robot-na... 2019-12-30 12:16:00   \n",
       "4  https://meduza.io/episodes/2019/12/27/novye-ch... 2019-12-27 15:00:00   \n",
       "\n",
       "                                        article_head  \\\n",
       "0  «Медузоид» из сердца крысы и киборги из лягуша...   \n",
       "1  Невидимая клавиатура, крадущийся автомобиль-кр...   \n",
       "2  20 лучших русских и иностранных книг за десяти...   \n",
       "3  Откуда искусственный интеллект берет вдохновен...   \n",
       "4  Новые черные дыры, аэромобили и другие приятны...   \n",
       "\n",
       "                                     article_content  \n",
       "0  Исследователи из Университета Тафстса Новая ра...  \n",
       "1  Каждый год на проходящей в Лас-Вегасе технолог...  \n",
       "2  «Медуза» продолжает подводить итоги десятилети...  \n",
       "3  В 2018 году на аукционе Christieʼs Иногда гово...  \n",
       "4  Несколько месяцев подряд в подкасте «Так и буд...  "
      ]
     },
     "execution_count": 57,
     "metadata": {},
     "output_type": "execute_result"
    }
   ],
   "source": [
    "df_meduza.head()"
   ]
  },
  {
   "cell_type": "code",
   "execution_count": 58,
   "metadata": {},
   "outputs": [
    {
     "name": "stdout",
     "output_type": "stream",
     "text": [
      "<class 'pandas.core.frame.DataFrame'>\n",
      "RangeIndex: 507 entries, 0 to 506\n",
      "Data columns (total 4 columns):\n",
      "article_url        507 non-null object\n",
      "article_time       507 non-null datetime64[ns]\n",
      "article_head       507 non-null object\n",
      "article_content    506 non-null object\n",
      "dtypes: datetime64[ns](1), object(3)\n",
      "memory usage: 16.0+ KB\n"
     ]
    }
   ],
   "source": [
    "df_meduza.info()"
   ]
  },
  {
   "cell_type": "code",
   "execution_count": 63,
   "metadata": {},
   "outputs": [
    {
     "data": {
      "text/plain": [
       "<matplotlib.axes._subplots.AxesSubplot at 0x237bd541a90>"
      ]
     },
     "execution_count": 63,
     "metadata": {},
     "output_type": "execute_result"
    },
    {
     "data": {
      "image/png": "[encoded data removed]",
      "text/plain": [
       "<Figure size 432x288 with 1 Axes>"
      ]
     },
     "metadata": {
      "needs_background": "light"
     },
     "output_type": "display_data"
    }
   ],
   "source": [
    "df.article_content.apply(lambda x: len(x)).plot(kind='hist', bins=30)"
   ]
  },
  {
   "cell_type": "code",
   "execution_count": 64,
   "metadata": {},
   "outputs": [
    {
     "data": {
      "text/plain": [
       "count      420.000000\n",
       "mean      2417.942857\n",
       "std       3315.352135\n",
       "min          1.000000\n",
       "25%        680.500000\n",
       "50%       1320.000000\n",
       "75%       2386.250000\n",
       "max      25352.000000\n",
       "Name: article_content, dtype: float64"
      ]
     },
     "execution_count": 64,
     "metadata": {},
     "output_type": "execute_result"
    }
   ],
   "source": [
    "df.article_content.apply(lambda x: len(x)).describe()"
   ]
  },
  {
   "cell_type": "code",
   "execution_count": 24,
   "metadata": {},
   "outputs": [
    {
     "data": {
      "text/plain": [
       "'https://meduza.io/slides/razve-mozhet-robot-napisat-simfoniyu-sozdat-shedevr-kak-iskusstvennyy-intellekt-uchitsya-tvorit'"
      ]
     },
     "execution_count": 24,
     "metadata": {},
     "output_type": "execute_result"
    }
   ],
   "source": [
    "df_meduza.article_url.values[3]"
   ]
  },
  {
   "cell_type": "code",
   "execution_count": 53,
   "metadata": {},
   "outputs": [
    {
     "name": "stdout",
     "output_type": "stream",
     "text": [
      "В 2018 году на аукционе Christieʼs Иногда говорят, что музыку, изображения, тексты, которые создает искусственный интеллект, нельзя называть искусством, ведь они тиражируемые. Как если сравнить фабрику, на которой каждый день производятся тысячи стульев, и столяра, который делает стулья поштучно. Но эта аналогия не совсем верна. Нейросети, в отличие от станка, могут создавать уникальные штучные продукты. Просто они более производительны: то, на что у человека уходит несколько часов или дней, нейросеть может сделать за секунды. Нейронная сеть способна находить в массивах данных неочевидные закономерности. Например, если ее обучать на всем, что когда-либо написал определенный художник, она сможет выявлять свойственные его творчеству приемы лучше профессиональных искусствоведов. По тому же принципу можно научить нейросеть распознавать характерные черты не одного, а всех художников в мире. По мотивам увиденного она сможет создать уже что-то новое. Нейросеть может воссоздать все, чему ее обучили, но рамки творчества для нее всегда задает человек. Скажем, если он даст задачу написать портрет, горный пейзаж или даже картину в стиле ню, нейросеть сделает это, если она была обучена на конкретном виде изображений. Пока не все жанры удаются нейросетям одинаково хорошо. Например, некоторые природные пейзажи вполне можно спутать с работами реальных художников-модернистов. А вот городской пейзаж воссоздать сложнее: на запечатленной улице много мелких деталей — автомобили, фонари, деревья, прохожие. Все дело в вариативности элементов: горы, трава, облака могут выглядеть почти как угодно. А один неверно нарисованный объект на городской улице сделает нереалистичным все изображение. Создание изображения — это математически сложная задача. Само изображение представлено в виде набора чисел, которые задают цвета конкретных пикселей. Нейросеть в процессе обучения пытается получить такой набор чисел, который походит на те картинки, на которых тренировалась нейросеть. Правдоподобные изображения генерируются благодаря нейросетям GAN (generative adversarial networks), которые как бы состязаются друг с другом. Их архитектура представлена в виде двух нейронных сетей: генератора — творца и дискриминатора — критика, который оценивает работу творца. Задача генератора — сделать так, чтобы дискриминатор усомнился в том, что рисунок, созданный им с помощью формул и переборов, на самом деле ненастоящий (то есть сгенерирован машиной, а не человеком). Если дискриминатор с высокой степенью вероятности распознает картинку как «подделку», то генератор понимает, что нужно делать иначе. Рано или поздно дискриминатор «принимает» рисунок за первоисточник. Когда ему указывают на ошибку, он запоминает ее и больше не повторяет. Подбор параметров формулы продолжается до тех пор, пока происходят улучшения генератора. Цель — получить генератор, который умеет создавать правдоподобные изображения. Да, хотя далеко не все результаты ее творчества удачны. Одна из сложностей работы с музыкой в том, что в ней развивается некий сюжет. Каждая последующая нота должна быть связана с предыдущей не только гармонически, но и «по смыслу», — только тогда сложится музыкальная тема, а не какофония. Попробуем объяснить на примере. Если музыкальный человек услышит произведение, вполне вероятно, что он сможет его насвистеть. По этому свисту опытный музыкант сможет восстановить исходное произведение: чем он опытнее, тем точнее его интерпретация будет к оригиналу. Нейросеть тоже сначала учится преобразовывать мелодию в «свист» (сжимать ее в «компактное представление»), а затем «разворачивать» мотив в полную версию. Но чтобы выучить тысячи мелодий целиком, у нее не хватает памяти (нейросеть в этом случае специально ограничивают в размере). Поэтому нейросеть заучивает лишь некие музыкальные закономерности. Чтобы получить уникальное произведение, ученые помещают в «компактное представление» наборы случайных чисел. Из них нейросеть пытается восстановить исходное произведение, применяя выученные закономерности музыки. У нейросети более-менее благозвучные мелодии получаются в примерно 10% случаев, остальные 90% отбраковываются из-за недостатка мелодичности. Однако о создании полноценного произведения речи пока не идет: даже эти 10%, как правило, дорабатываются людьми. В 2019 году нейросеть от Нейросеть вообще не понимает смыслов, не считывает иронию или аллюзии. Но она может синтезировать смыслы по тому же принципу, как это делает человек. В любом языке есть синтаксическая модель и правила порядка слов. Учитывая контекст, мы примерно понимаем, какие слова можно ставить рядом друг с другом, а какие нет. Для создания любого связного текста нейронная сеть должна проанализировать множество материалов на русском языке, чтобы понять, по какому принципу образуются смысловые пары, какие слова обычно идут друг за другом. Для нейронной сети каждое слово можно представить в виде вектора на сетке координат. Его местоположение зависит от того, в каком контексте слово используется. Возьмем предложение «Трехлетний мальчик катает по ковру игрушечный мотоцикл». Нейросеть берет слово «трехлетний» и преобразует его в вектор. Теперь она подбирает ближайшее к нему слово — «мальчик». Оно подходит по смыслу больше, чем «мужчина» или, например, «подросток». Анализируя эту связку, нейросеть ищет семантически близкий глагол. Она помнит, что речь — о трехлетнем мальчике, поэтому «катал» будет ближе, чем, например, «возил», «управлял» и «перемещал». И так далее. Таким образом нейросети учатся писать небольшие связные тексты. Качество имитации растет довольно быстро. Иногда результаты получаются настолько правдоподобными, что кажется, будто нейросеть пишет тексты осознанно и понимает их смысл (это не так). В 2016 году создателям стартапа Недавно лаборатория «Яндекса» провела Сначала алгоритм сравнил запросы с текстовыми синопсисами и рецензиями на фильмы, чтобы, например, по запросу «индийский мальчик с тигром в лодке» можно было найти фильм «Жизнь Пи». Но зачастую запросы пользователей строятся на штампах и с сюжетом связаны опосредованно. Например, так: «сериал, где ничего не понятно и есть корги» («Детективное агентство Дирка Джентли»), «мужик сам от себя родил себя» («Патруль времени»), «фильм, где лингвисты спасают мир» («Прибытие»). Получить ответ на такой запрос с первого раза довольно сложно, а если пользователь переформулирует его, алгоритм поисковика запомнит эти уточнения и будет учитывать их в будущем. Само исследование проводилось без использования нейронных сетей, однако то, что фильмы по таким неточным запросам вообще находятся, в том числе их заслуга. Автором — скорее нет. А вот творцом — да. Объясним по порядку. Сегодня большая часть деятельности нейронной сети зависит от человека: именно он запускает нейросеть, задает входные параметры качественного произведения и отбраковывает результаты. Тот же принцип, что и с фотоаппаратом: кажется, что фотоаппарат сделал снимок сам, хотя на самом деле именно человек навел объектив и нажал кнопку затвора. Так что авторские права принадлежат человеку (ну или вообще никому). Теперь про творчество. Да, нейронная сеть действительно может только подражать человеку, но ведь и любое творчество в некотором смысле — подражание. Оно может быть как осознанным, так и не очень. Скажем, на прерафаэлитов сильно влияли художники Раннего Возрождения, а русские авангардисты вдохновлялись творчеством Пикассо. Фрэнк Синатра, Селин Дион, Фредди Меркьюри — все они писали и исполняли разную музыку, при этом у каждого есть отсылки к фортепианным концертам Рахманинова. Творчество строится на соединении и переосмыслении всего, что человек когда-то увидел или услышал. Наконец, искусство невозможно без зрителя. Сюжет любой картины (равно как и музыкального произведения) находится не в самом произведении, а в голове зрителя или слушателя. Нейронная сеть не испытывает эмоций, но их испытывает человек. Глядя на картину, он расшифровывает заложенный художником культурный код. И нейросеть вполне способна сгенерировать ключ, который вызовет ту же эмоцию, что и произведение человека.\n"
     ]
    }
   ],
   "source": [
    "print(df_meduza.article_content.values[3])"
   ]
  },
  {
   "cell_type": "code",
   "execution_count": 17,
   "metadata": {},
   "outputs": [
    {
     "data": {
      "text/html": [
       "<div>\n",
       "<style scoped>\n",
       "    .dataframe tbody tr th:only-of-type {\n",
       "        vertical-align: middle;\n",
       "    }\n",
       "\n",
       "    .dataframe tbody tr th {\n",
       "        vertical-align: top;\n",
       "    }\n",
       "\n",
       "    .dataframe thead th {\n",
       "        text-align: right;\n",
       "    }\n",
       "</style>\n",
       "<table border=\"1\" class=\"dataframe\">\n",
       "  <thead>\n",
       "    <tr style=\"text-align: right;\">\n",
       "      <th></th>\n",
       "      <th>0</th>\n",
       "      <th>1</th>\n",
       "      <th>2</th>\n",
       "      <th>3</th>\n",
       "      <th>4</th>\n",
       "    </tr>\n",
       "  </thead>\n",
       "  <tbody>\n",
       "    <tr>\n",
       "      <th>article_url</th>\n",
       "      <td>https://meduza.io/feature/2020/01/16/meduzoid-...</td>\n",
       "      <td>https://meduza.io/slides/nevidimaya-klaviatura...</td>\n",
       "      <td>https://meduza.io/slides/20-luchshih-russkih-i...</td>\n",
       "      <td>https://meduza.io/slides/razve-mozhet-robot-na...</td>\n",
       "      <td>https://meduza.io/episodes/2019/12/27/novye-ch...</td>\n",
       "    </tr>\n",
       "    <tr>\n",
       "      <th>article_time</th>\n",
       "      <td>16:55, 16 января</td>\n",
       "      <td>16:03, 11 января</td>\n",
       "      <td>06:42, 3 января</td>\n",
       "      <td>12:16, 30 декабр</td>\n",
       "      <td>15:00, 27 декабр</td>\n",
       "    </tr>\n",
       "    <tr>\n",
       "      <th>article_head</th>\n",
       "      <td>«Медузоид» из сердца крысы и киборги из лягуша...</td>\n",
       "      <td>Невидимая клавиатура, крадущийся автомобиль-кр...</td>\n",
       "      <td>20 лучших русских и иностранных книг за десяти...</td>\n",
       "      <td>Откуда искусственный интеллект берет вдохновен...</td>\n",
       "      <td>Новые черные дыры, аэромобили и другие приятны...</td>\n",
       "    </tr>\n",
       "    <tr>\n",
       "      <th>article_content</th>\n",
       "      <td>Исследователи из Университета Тафстса Новая ра...</td>\n",
       "      <td>Каждый год на проходящей в Лас-Вегасе технолог...</td>\n",
       "      <td>«Медуза» продолжает подводить итоги десятилети...</td>\n",
       "      <td>В 2018 году на аукционе Christieʼs Иногда гово...</td>\n",
       "      <td>Несколько месяцев подряд в подкасте «Так и буд...</td>\n",
       "    </tr>\n",
       "  </tbody>\n",
       "</table>\n",
       "</div>"
      ],
      "text/plain": [
       "                                                                 0  \\\n",
       "article_url      https://meduza.io/feature/2020/01/16/meduzoid-...   \n",
       "article_time                                      16:55, 16 января   \n",
       "article_head     «Медузоид» из сердца крысы и киборги из лягуша...   \n",
       "article_content  Исследователи из Университета Тафстса Новая ра...   \n",
       "\n",
       "                                                                 1  \\\n",
       "article_url      https://meduza.io/slides/nevidimaya-klaviatura...   \n",
       "article_time                                      16:03, 11 января   \n",
       "article_head     Невидимая клавиатура, крадущийся автомобиль-кр...   \n",
       "article_content  Каждый год на проходящей в Лас-Вегасе технолог...   \n",
       "\n",
       "                                                                 2  \\\n",
       "article_url      https://meduza.io/slides/20-luchshih-russkih-i...   \n",
       "article_time                                      06:42, 3 января    \n",
       "article_head     20 лучших русских и иностранных книг за десяти...   \n",
       "article_content  «Медуза» продолжает подводить итоги десятилети...   \n",
       "\n",
       "                                                                 3  \\\n",
       "article_url      https://meduza.io/slides/razve-mozhet-robot-na...   \n",
       "article_time                                      12:16, 30 декабр   \n",
       "article_head     Откуда искусственный интеллект берет вдохновен...   \n",
       "article_content  В 2018 году на аукционе Christieʼs Иногда гово...   \n",
       "\n",
       "                                                                 4  \n",
       "article_url      https://meduza.io/episodes/2019/12/27/novye-ch...  \n",
       "article_time                                      15:00, 27 декабр  \n",
       "article_head     Новые черные дыры, аэромобили и другие приятны...  \n",
       "article_content  Несколько месяцев подряд в подкасте «Так и буд...  "
      ]
     },
     "execution_count": 17,
     "metadata": {},
     "output_type": "execute_result"
    }
   ],
   "source": [
    "df_meduza.head().T"
   ]
  },
  {
   "cell_type": "markdown",
   "metadata": {},
   "source": [
    "## N+1\n"
   ]
  },
  {
   "cell_type": "code",
   "execution_count": 68,
   "metadata": {},
   "outputs": [],
   "source": [
    "df_nplus = pd.read_csv('nplus.csv', parse_dates=['article_time'])"
   ]
  },
  {
   "cell_type": "code",
   "execution_count": 73,
   "metadata": {},
   "outputs": [
    {
     "data": {
      "text/html": [
       "<div>\n",
       "<style scoped>\n",
       "    .dataframe tbody tr th:only-of-type {\n",
       "        vertical-align: middle;\n",
       "    }\n",
       "\n",
       "    .dataframe tbody tr th {\n",
       "        vertical-align: top;\n",
       "    }\n",
       "\n",
       "    .dataframe thead th {\n",
       "        text-align: right;\n",
       "    }\n",
       "</style>\n",
       "<table border=\"1\" class=\"dataframe\">\n",
       "  <thead>\n",
       "    <tr style=\"text-align: right;\">\n",
       "      <th></th>\n",
       "      <th>article_url</th>\n",
       "      <th>article_time</th>\n",
       "      <th>article_head</th>\n",
       "      <th>article_content</th>\n",
       "    </tr>\n",
       "  </thead>\n",
       "  <tbody>\n",
       "    <tr>\n",
       "      <th>0</th>\n",
       "      <td>https://nplus1.ru/news/2016/06/20/ai-ant-soccer</td>\n",
       "      <td>2016-06-20 14:28:27</td>\n",
       "      <td>Искусственный интеллект Google сыграл в «мурав...</td>\n",
       "      <td>DeepMind / YouTube Искусственный интеллект ...</td>\n",
       "    </tr>\n",
       "    <tr>\n",
       "      <th>1</th>\n",
       "      <td>https://nplus1.ru/news/2018/04/24/nuclear</td>\n",
       "      <td>2018-04-24 11:40:12</td>\n",
       "      <td>Искусственный интеллект назвали угрозой ядерно...</td>\n",
       "      <td>Ядерные испытания в Неваде в 1957 году U.S....</td>\n",
       "    </tr>\n",
       "    <tr>\n",
       "      <th>2</th>\n",
       "      <td>https://nplus1.ru/news/2016/11/14/ai-learns-ab...</td>\n",
       "      <td>2016-11-14 13:07:37</td>\n",
       "      <td>Искусственный интеллект научился взвешивать об...</td>\n",
       "      <td>The Marmot / Flickr Искусственный интеллект...</td>\n",
       "    </tr>\n",
       "    <tr>\n",
       "      <th>3</th>\n",
       "      <td>https://nplus1.ru/news/2016/10/25/AI-predict</td>\n",
       "      <td>2016-10-25 12:21:12</td>\n",
       "      <td>Искусственный интеллект научился предсказывать...</td>\n",
       "      <td>Adrian Grycuk / Wikimedia Commons Искусстве...</td>\n",
       "    </tr>\n",
       "    <tr>\n",
       "      <th>4</th>\n",
       "      <td>https://nplus1.ru/news/2016/06/10/yeah-skynet</td>\n",
       "      <td>2016-06-10 10:17:11</td>\n",
       "      <td>Искусственный интеллект игры Elite Dangerous р...</td>\n",
       "      <td>Deebz__ / YouTune После обновления игры Eli...</td>\n",
       "    </tr>\n",
       "    <tr>\n",
       "      <th>...</th>\n",
       "      <td>...</td>\n",
       "      <td>...</td>\n",
       "      <td>...</td>\n",
       "      <td>...</td>\n",
       "    </tr>\n",
       "    <tr>\n",
       "      <th>195</th>\n",
       "      <td>https://nplus1.ru/news/2017/10/30/suicide-mach...</td>\n",
       "      <td>2017-10-30 16:00:33</td>\n",
       "      <td>Машинное обучение вычислило потенциальных само...</td>\n",
       "      <td>Джон Эверетт Милле «Офелия»,1852 год public...</td>\n",
       "    </tr>\n",
       "    <tr>\n",
       "      <th>196</th>\n",
       "      <td>https://nplus1.ru/news/2016/05/05/neoneo</td>\n",
       "      <td>2016-05-05 11:53:23</td>\n",
       "      <td>Компьютер обошел человека в неорганическом син...</td>\n",
       "      <td>Блок-схема, суммирующая предсказания систем...</td>\n",
       "    </tr>\n",
       "    <tr>\n",
       "      <th>197</th>\n",
       "      <td>https://nplus1.ru/news/2017/12/14/gfycat</td>\n",
       "      <td>2017-12-14 09:53:23</td>\n",
       "      <td>Машинное обучение улучшит качество гифок</td>\n",
       "      <td>Gfycat Сервис для хранения и создания аними...</td>\n",
       "    </tr>\n",
       "    <tr>\n",
       "      <th>198</th>\n",
       "      <td>https://nplus1.ru/news/2017/01/13/raisr</td>\n",
       "      <td>2017-01-13 08:55:59</td>\n",
       "      <td>Машинное обучение улучшило картинки в Google+</td>\n",
       "      <td>Фотография заката в формате JPEG с уменьшен...</td>\n",
       "    </tr>\n",
       "    <tr>\n",
       "      <th>199</th>\n",
       "      <td>https://nplus1.ru/news/2018/08/13/there-s-waldo</td>\n",
       "      <td>2018-08-13 10:38:27</td>\n",
       "      <td>Машинное обучение помогло резиновой руке найти...</td>\n",
       "      <td>redpepper / YouTube Разработчики креативног...</td>\n",
       "    </tr>\n",
       "  </tbody>\n",
       "</table>\n",
       "<p>200 rows × 4 columns</p>\n",
       "</div>"
      ],
      "text/plain": [
       "                                           article_url        article_time  \\\n",
       "0      https://nplus1.ru/news/2016/06/20/ai-ant-soccer 2016-06-20 14:28:27   \n",
       "1            https://nplus1.ru/news/2018/04/24/nuclear 2018-04-24 11:40:12   \n",
       "2    https://nplus1.ru/news/2016/11/14/ai-learns-ab... 2016-11-14 13:07:37   \n",
       "3         https://nplus1.ru/news/2016/10/25/AI-predict 2016-10-25 12:21:12   \n",
       "4        https://nplus1.ru/news/2016/06/10/yeah-skynet 2016-06-10 10:17:11   \n",
       "..                                                 ...                 ...   \n",
       "195  https://nplus1.ru/news/2017/10/30/suicide-mach... 2017-10-30 16:00:33   \n",
       "196           https://nplus1.ru/news/2016/05/05/neoneo 2016-05-05 11:53:23   \n",
       "197           https://nplus1.ru/news/2017/12/14/gfycat 2017-12-14 09:53:23   \n",
       "198            https://nplus1.ru/news/2017/01/13/raisr 2017-01-13 08:55:59   \n",
       "199    https://nplus1.ru/news/2018/08/13/there-s-waldo 2018-08-13 10:38:27   \n",
       "\n",
       "                                          article_head  \\\n",
       "0    Искусственный интеллект Google сыграл в «мурав...   \n",
       "1    Искусственный интеллект назвали угрозой ядерно...   \n",
       "2    Искусственный интеллект научился взвешивать об...   \n",
       "3    Искусственный интеллект научился предсказывать...   \n",
       "4    Искусственный интеллект игры Elite Dangerous р...   \n",
       "..                                                 ...   \n",
       "195  Машинное обучение вычислило потенциальных само...   \n",
       "196  Компьютер обошел человека в неорганическом син...   \n",
       "197           Машинное обучение улучшит качество гифок   \n",
       "198      Машинное обучение улучшило картинки в Google+   \n",
       "199  Машинное обучение помогло резиновой руке найти...   \n",
       "\n",
       "                                       article_content  \n",
       "0       DeepMind / YouTube Искусственный интеллект ...  \n",
       "1       Ядерные испытания в Неваде в 1957 году U.S....  \n",
       "2       The Marmot / Flickr Искусственный интеллект...  \n",
       "3       Adrian Grycuk / Wikimedia Commons Искусстве...  \n",
       "4       Deebz__ / YouTune После обновления игры Eli...  \n",
       "..                                                 ...  \n",
       "195     Джон Эверетт Милле «Офелия»,1852 год public...  \n",
       "196     Блок-схема, суммирующая предсказания систем...  \n",
       "197     Gfycat Сервис для хранения и создания аними...  \n",
       "198     Фотография заката в формате JPEG с уменьшен...  \n",
       "199     redpepper / YouTube Разработчики креативног...  \n",
       "\n",
       "[200 rows x 4 columns]"
      ]
     },
     "execution_count": 73,
     "metadata": {},
     "output_type": "execute_result"
    }
   ],
   "source": [
    "df_nplus.head(200)"
   ]
  },
  {
   "cell_type": "code",
   "execution_count": 72,
   "metadata": {},
   "outputs": [
    {
     "data": {
      "text/plain": [
       "'Что интеллект? Игра!'"
      ]
     },
     "execution_count": 72,
     "metadata": {},
     "output_type": "execute_result"
    }
   ],
   "source": [
    "df_nplus.tail().article_head.values[1]"
   ]
  }
 ],
 "metadata": {
  "kernelspec": {
   "display_name": "Python 3",
   "language": "python",
   "name": "python3"
  },
  "language_info": {
   "codemirror_mode": {
    "name": "ipython",
    "version": 3
   },
   "file_extension": ".py",
   "mimetype": "text/x-python",
   "name": "python",
   "nbconvert_exporter": "python",
   "pygments_lexer": "ipython3",
   "version": "3.8.1"
  }
 },
 "nbformat": 4,
 "nbformat_minor": 1
}
