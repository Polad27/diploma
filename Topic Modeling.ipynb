{
 "cells": [
  {
   "cell_type": "raw",
   "metadata": {},
   "source": [
    "!pip install pyLDAvis"
   ]
  },
  {
   "cell_type": "code",
   "execution_count": 1,
   "metadata": {},
   "outputs": [
    {
     "name": "stderr",
     "output_type": "stream",
     "text": [
      "C:\\Users\\Polad_Babashev\\AppData\\Local\\Continuum\\anaconda3\\lib\\site-packages\\past\\types\\oldstr.py:5: DeprecationWarning: Using or importing the ABCs from 'collections' instead of from 'collections.abc' is deprecated, and in 3.8 it will stop working\n",
      "  from collections import Iterable\n",
      "C:\\Users\\Polad_Babashev\\AppData\\Local\\Continuum\\anaconda3\\lib\\site-packages\\past\\builtins\\misc.py:4: DeprecationWarning: Using or importing the ABCs from 'collections' instead of from 'collections.abc' is deprecated, and in 3.8 it will stop working\n",
      "  from collections import Mapping\n"
     ]
    }
   ],
   "source": [
    "import pyLDAvis\n",
    "import pyLDAvis.gensim  # don't skip this\n",
    "import matplotlib.pyplot as plt\n",
    "%matplotlib inline\n"
   ]
  },
  {
   "cell_type": "code",
   "execution_count": 10,
   "metadata": {},
   "outputs": [],
   "source": [
    "import re\n",
    "import numpy as np\n",
    "import pandas as pd\n",
    "import gensim\n",
    "import gensim.corpora as corpora\n",
    "import spacy\n",
    "import warnings\n",
    "import utils\n",
    "import os\n",
    "import pickle\n",
    "\n",
    "from stop_words import get_stop_words\n",
    "from gensim.utils import simple_preprocess\n",
    "from gensim.models import CoherenceModel\n",
    "from nltk.corpus import stopwords\n",
    "from tqdm import tqdm_notebook as tqdm\n",
    "from pymystem3 import Mystem\n",
    "\n",
    "warnings.filterwarnings(\"ignore\",category=DeprecationWarning)"
   ]
  },
  {
   "cell_type": "code",
   "execution_count": null,
   "metadata": {},
   "outputs": [],
   "source": [
    "stop_words = get_stop_words('ru')\n",
    "stop_words.extend(['искусственный интеллект', 'машинное обучение', 'ии'])"
   ]
  },
  {
   "cell_type": "code",
   "execution_count": null,
   "metadata": {},
   "outputs": [],
   "source": [
    "'свой' in stop_words"
   ]
  },
  {
   "cell_type": "code",
   "execution_count": 3,
   "metadata": {},
   "outputs": [],
   "source": [
    "df = utils.read_data(['data/meduza.csv', 'data/tjornal.csv', 'data/nplus.csv'], **{'parse_dates': ['article_time']})"
   ]
  },
  {
   "cell_type": "code",
   "execution_count": 4,
   "metadata": {},
   "outputs": [
    {
     "data": {
      "text/plain": [
       "(1181, 4)"
      ]
     },
     "execution_count": 4,
     "metadata": {},
     "output_type": "execute_result"
    }
   ],
   "source": [
    "df.shape"
   ]
  },
  {
   "cell_type": "code",
   "execution_count": 5,
   "metadata": {},
   "outputs": [
    {
     "data": {
      "text/plain": [
       "article_url                object\n",
       "article_time       datetime64[ns]\n",
       "article_head               object\n",
       "article_content            object\n",
       "dtype: object"
      ]
     },
     "execution_count": 5,
     "metadata": {},
     "output_type": "execute_result"
    }
   ],
   "source": [
    "df.dtypes"
   ]
  },
  {
   "cell_type": "markdown",
   "metadata": {},
   "source": [
    "## Preprocessing"
   ]
  },
  {
   "cell_type": "code",
   "execution_count": 6,
   "metadata": {},
   "outputs": [],
   "source": [
    "lemmatizer = Mystem()"
   ]
  },
  {
   "cell_type": "code",
   "execution_count": 7,
   "metadata": {},
   "outputs": [],
   "source": [
    "texts_content = df.article_content.values.tolist()"
   ]
  },
  {
   "cell_type": "code",
   "execution_count": 8,
   "metadata": {},
   "outputs": [
    {
     "name": "stdout",
     "output_type": "stream",
     "text": [
      "Wall time: 4.94 s\n"
     ]
    }
   ],
   "source": [
    "%%time\n",
    "texts_content = [simple_preprocess(text, deacc=True, min_len=2, max_len=30) for text in texts_content]"
   ]
  },
  {
   "cell_type": "code",
   "execution_count": 9,
   "metadata": {},
   "outputs": [
    {
     "name": "stdout",
     "output_type": "stream",
     "text": [
      "lemmatization...\n"
     ]
    },
    {
     "name": "stderr",
     "output_type": "stream",
     "text": [
      "100%|██████████████████████████████████████████████████████████████████████████████████| 1181/1181 [25:16<00:00,  1.28s/it]\n"
     ]
    },
    {
     "name": "stdout",
     "output_type": "stream",
     "text": [
      "Wall time: 25min 16s\n"
     ]
    }
   ],
   "source": [
    "%%time\n",
    "print('lemmatization...')\n",
    "texts_content = utils.lemmatization(texts_content, lemmatizer)"
   ]
  },
  {
   "cell_type": "raw",
   "metadata": {},
   "source": [
    "import pickle\n",
    "pickle.dump(texts_content, open('lemmatized.pkl', 'wb'))"
   ]
  },
  {
   "cell_type": "code",
   "execution_count": 11,
   "metadata": {},
   "outputs": [],
   "source": [
    "texts_content = pickle.load(open('lemmatized.pkl', 'rb'))"
   ]
  },
  {
   "cell_type": "code",
   "execution_count": 12,
   "metadata": {},
   "outputs": [
    {
     "data": {
      "application/vnd.jupyter.widget-view+json": {
       "model_id": "73a71b54686f49e49f0ddf9007b78d34",
       "version_major": 2,
       "version_minor": 0
      },
      "text/plain": [
       "HBox(children=(IntProgress(value=0, max=1181), HTML(value='')))"
      ]
     },
     "metadata": {},
     "output_type": "display_data"
    },
    {
     "name": "stdout",
     "output_type": "stream",
     "text": [
      "\n",
      "removing stopwords...\n",
      "bigrams...\n",
      "Wall time: 12.8 s\n"
     ]
    }
   ],
   "source": [
    "%%time\n",
    "texts_content = [[w for w in text if not w == ' '] for text in tqdm(texts_content)]\n",
    "print('removing stopwords...')\n",
    "texts_content = utils.remove_stopwords(texts_content, stop_words)\n",
    "print('bigrams...')\n",
    "bigram = gensim.models.Phrases(texts_content, min_count=5, threshold=100)\n",
    "bigram_mod = gensim.models.phrases.Phraser(bigram)\n",
    "texts_content = utils.make_bigrams(texts_content, bigram_mod)\n"
   ]
  },
  {
   "cell_type": "code",
   "execution_count": 22,
   "metadata": {},
   "outputs": [
    {
     "data": {
      "application/vnd.jupyter.widget-view+json": {
       "model_id": "b2ac59ae9c5f45cc913b033479eb5d64",
       "version_major": 2,
       "version_minor": 0
      },
      "text/plain": [
       "HBox(children=(IntProgress(value=0, max=1181), HTML(value='')))"
      ]
     },
     "metadata": {},
     "output_type": "display_data"
    },
    {
     "name": "stdout",
     "output_type": "stream",
     "text": [
      "\n"
     ]
    }
   ],
   "source": []
  },
  {
   "cell_type": "code",
   "execution_count": 13,
   "metadata": {},
   "outputs": [
    {
     "name": "stdout",
     "output_type": "stream",
     "text": [
      "Wall time: 1.47 s\n"
     ]
    }
   ],
   "source": [
    "%%time\n",
    "id2word = corpora.Dictionary(texts_content)\n",
    "texts = texts_content\n",
    "corpus = [id2word.doc2bow(text) for text in texts]"
   ]
  },
  {
   "cell_type": "code",
   "execution_count": 14,
   "metadata": {},
   "outputs": [],
   "source": [
    "readable_corpus = [[(id2word[id], freq) for id, freq in cp] for cp in corpus]"
   ]
  },
  {
   "cell_type": "code",
   "execution_count": null,
   "metadata": {},
   "outputs": [],
   "source": []
  },
  {
   "cell_type": "markdown",
   "metadata": {},
   "source": [
    "## Training LDA"
   ]
  },
  {
   "cell_type": "markdown",
   "metadata": {},
   "source": [
    "### topics = 10"
   ]
  },
  {
   "cell_type": "code",
   "execution_count": 15,
   "metadata": {},
   "outputs": [
    {
     "name": "stdout",
     "output_type": "stream",
     "text": [
      "Wall time: 41.4 s\n"
     ]
    }
   ],
   "source": [
    "%%time\n",
    "lda_model = gensim.models.ldamodel.LdaModel(corpus=corpus,\n",
    "                                           id2word=id2word,\n",
    "                                            num_topics=10,\n",
    "                                           update_every=3,\n",
    "                                           chunksize=50,\n",
    "                                           passes=10,\n",
    "                                           alpha='auto',\n",
    "                                           per_word_topics=True)"
   ]
  },
  {
   "cell_type": "code",
   "execution_count": 16,
   "metadata": {},
   "outputs": [
    {
     "data": {
      "text/plain": [
       "[(0,\n",
       "  '0.013*\"система\" + 0.008*\"технология\" + 0.007*\"компания\" + 0.005*\"машина\" + 0.005*\"данные\" + 0.005*\"позволять\" + 0.005*\"работа\" + 0.004*\"использовать\" + 0.004*\"работать\" + 0.004*\"например\"'),\n",
       " (1,\n",
       "  '0.010*\"данные\" + 0.008*\"главнивц\" + 0.007*\"шерлок\" + 0.007*\"система\" + 0.007*\"компания\" + 0.005*\"разработка\" + 0.005*\"рассказывать\" + 0.005*\"доступ\" + 0.005*\"работать\" + 0.004*\"медуза\"'),\n",
       " (2,\n",
       "  '0.008*\"приложение\" + 0.008*\"пользователь\" + 0.007*\"google\" + 0.006*\"игра\" + 0.005*\"свой\" + 0.005*\"например\" + 0.005*\"яндекс\" + 0.004*\"работать\" + 0.004*\"неиросеть\" + 0.004*\"понимать\"'),\n",
       " (3,\n",
       "  '0.007*\"nature\" + 0.003*\"григорьев\" + 0.002*\"репетитор\" + 0.001*\"мирэа\" + 0.001*\"зачет\" + 0.001*\"информационноя_безопасность\" + 0.001*\"rex\" + 0.000*\"людскои\" + 0.000*\"яркий\" + 0.000*\"рубиться\"'),\n",
       " (4,\n",
       "  '0.023*\"музыка\" + 0.017*\"музыкальный\" + 0.009*\"музыкант\" + 0.009*\"альбом\" + 0.008*\"произведение\" + 0.006*\"песня\" + 0.005*\"композитор\" + 0.004*\"композиция\" + 0.004*\"форма\" + 0.004*\"слушатель\"'),\n",
       " (5,\n",
       "  '0.008*\"блюдо\" + 0.004*\"рассказывать\" + 0.004*\"математика\" + 0.004*\"успенский\" + 0.003*\"математический\" + 0.003*\"наука\" + 0.003*\"владимир_андреевич\" + 0.002*\"физик\" + 0.002*\"математик\" + 0.002*\"объяснять\"'),\n",
       " (6,\n",
       "  '0.044*\"сложность\" + 0.044*\"коэффициент\" + 0.013*\"алгоритм\" + 0.012*\"неиросеть\" + 0.008*\"изображение\" + 0.008*\"работа\" + 0.007*\"использовать\" + 0.007*\"система\" + 0.006*\"данные\" + 0.006*\"помощь\"'),\n",
       " (7,\n",
       "  '0.007*\"роман\" + 0.007*\"герой\" + 0.006*\"фильм\" + 0.006*\"андроид\" + 0.005*\"книга\" + 0.004*\"сюжет\" + 0.004*\"рассказ\" + 0.004*\"самый\" + 0.004*\"история\" + 0.003*\"камень\"'),\n",
       " (8,\n",
       "  '0.007*\"свой\" + 0.007*\"компания\" + 0.007*\"становиться\" + 0.005*\"\\n\" + 0.004*\"проект\" + 0.004*\"вопрос\" + 0.004*\"интернет\" + 0.003*\"работать\" + 0.003*\"сервис\" + 0.003*\"людей\"'),\n",
       " (9,\n",
       "  '0.009*\"угадывать\" + 0.003*\"аудиосериал\" + 0.003*\"сериал\" + 0.002*\"престол\" + 0.002*\"деиенерис\" + 0.002*\"джон\" + 0.002*\"матрица\" + 0.002*\"король\" + 0.001*\"tiktok\" + 0.001*\"убивать\"')]"
      ]
     },
     "execution_count": 16,
     "metadata": {},
     "output_type": "execute_result"
    }
   ],
   "source": [
    "lda_model.print_topics()"
   ]
  },
  {
   "cell_type": "code",
   "execution_count": 17,
   "metadata": {},
   "outputs": [
    {
     "data": {
      "text/plain": [
       "-8.92887093002859"
      ]
     },
     "execution_count": 17,
     "metadata": {},
     "output_type": "execute_result"
    }
   ],
   "source": [
    "lda_model.log_perplexity(corpus)"
   ]
  },
  {
   "cell_type": "code",
   "execution_count": 18,
   "metadata": {},
   "outputs": [],
   "source": [
    "coherence_model_lda = CoherenceModel(model=lda_model, texts=texts_content, dictionary=id2word, coherence='c_v')\n",
    "coherence_lda = coherence_model_lda.get_coherence()"
   ]
  },
  {
   "cell_type": "code",
   "execution_count": 19,
   "metadata": {},
   "outputs": [
    {
     "data": {
      "text/plain": [
       "0.4610680547075945"
      ]
     },
     "execution_count": 19,
     "metadata": {},
     "output_type": "execute_result"
    }
   ],
   "source": [
    "coherence_lda"
   ]
  },
  {
   "cell_type": "markdown",
   "metadata": {},
   "source": [
    "### topics = 5"
   ]
  },
  {
   "cell_type": "code",
   "execution_count": 20,
   "metadata": {},
   "outputs": [
    {
     "name": "stdout",
     "output_type": "stream",
     "text": [
      "Wall time: 28.7 s\n"
     ]
    }
   ],
   "source": [
    "%%time\n",
    "lda_model = gensim.models.ldamodel.LdaModel(corpus=corpus,\n",
    "                                            id2word=id2word,\n",
    "                                            num_topics=5,\n",
    "                                            update_every=3,\n",
    "                                            chunksize=50,\n",
    "                                            passes=10,\n",
    "                                            alpha='auto',\n",
    "                                            per_word_topics=True)"
   ]
  },
  {
   "cell_type": "code",
   "execution_count": 21,
   "metadata": {},
   "outputs": [
    {
     "data": {
      "text/plain": [
       "[(0,\n",
       "  '0.007*\"телефон\" + 0.005*\"камера\" + 0.005*\"экран\" + 0.005*\"приложение\" + 0.004*\"apple\" + 0.004*\"компания\" + 0.004*\"рассказывать\" + 0.004*\"работать\" + 0.004*\"свой\" + 0.004*\"главнивц\"'),\n",
       " (1,\n",
       "  '0.014*\"неиросеть\" + 0.006*\"алгоритм\" + 0.005*\"изображение\" + 0.005*\"создавать\" + 0.005*\"\\n\" + 0.005*\"работа\" + 0.004*\"результат\" + 0.004*\"фильм\" + 0.003*\"помощь\" + 0.003*\"автор\"'),\n",
       " (2,\n",
       "  '0.049*\"сложность\" + 0.049*\"коэффициент\" + 0.010*\"алгоритм\" + 0.007*\"система\" + 0.007*\"работа\" + 0.005*\"использовать\" + 0.005*\"данные\" + 0.005*\"неиросеть\" + 0.005*\"изображение\" + 0.005*\"помощь\"'),\n",
       " (3,\n",
       "  '0.016*\"игра\" + 0.007*\"игрок\" + 0.006*\"играть\" + 0.005*\"ия\" + 0.004*\"го\" + 0.004*\"deepmind\" + 0.004*\"свой\" + 0.004*\"матч\" + 0.003*\"становиться\" + 0.003*\"герой\"'),\n",
       " (4,\n",
       "  '0.007*\"компания\" + 0.005*\"свой\" + 0.005*\"система\" + 0.004*\"технология\" + 0.004*\"например\" + 0.004*\"становиться\" + 0.004*\"работать\" + 0.004*\"пользователь\" + 0.004*\"\\n\" + 0.004*\"использовать\"')]"
      ]
     },
     "execution_count": 21,
     "metadata": {},
     "output_type": "execute_result"
    }
   ],
   "source": [
    "lda_model.print_topics()"
   ]
  },
  {
   "cell_type": "code",
   "execution_count": 22,
   "metadata": {},
   "outputs": [
    {
     "data": {
      "text/plain": [
       "-8.497914710494909"
      ]
     },
     "execution_count": 22,
     "metadata": {},
     "output_type": "execute_result"
    }
   ],
   "source": [
    "lda_model.log_perplexity(corpus)"
   ]
  },
  {
   "cell_type": "code",
   "execution_count": 23,
   "metadata": {},
   "outputs": [],
   "source": [
    "coherence_model_lda = CoherenceModel(model=lda_model, texts=texts_content, dictionary=id2word, coherence='c_v')\n",
    "coherence_lda = coherence_model_lda.get_coherence()"
   ]
  },
  {
   "cell_type": "code",
   "execution_count": 24,
   "metadata": {},
   "outputs": [
    {
     "data": {
      "text/plain": [
       "0.4363723122746693"
      ]
     },
     "execution_count": 24,
     "metadata": {},
     "output_type": "execute_result"
    }
   ],
   "source": [
    "coherence_lda"
   ]
  }
 ],
 "metadata": {
  "kernelspec": {
   "display_name": "Python 3",
   "language": "python",
   "name": "python3"
  },
  "language_info": {
   "codemirror_mode": {
    "name": "ipython",
    "version": 3
   },
   "file_extension": ".py",
   "mimetype": "text/x-python",
   "name": "python",
   "nbconvert_exporter": "python",
   "pygments_lexer": "ipython3",
   "version": "3.7.4"
  }
 },
 "nbformat": 4,
 "nbformat_minor": 2
}
